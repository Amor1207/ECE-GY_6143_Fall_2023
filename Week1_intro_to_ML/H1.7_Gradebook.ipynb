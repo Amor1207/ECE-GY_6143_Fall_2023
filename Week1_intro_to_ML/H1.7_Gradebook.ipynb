{
 "cells": [
  {
   "cell_type": "markdown",
   "metadata": {},
   "source": [
    "# Computation using numpy functions"
   ]
  },
  {
   "cell_type": "code",
   "execution_count": 1,
   "metadata": {},
   "outputs": [],
   "source": [
    "import numpy as np\n"
   ]
  },
  {
   "cell_type": "markdown",
   "metadata": {},
   "source": [
    "Upload the `data.csv` file to this workspace, then read in the data to a `numpy` array in `x`. If you want to, you can add code to the following cell to explore `x` (for example, see its shape).\n"
   ]
  },
  {
   "cell_type": "code",
   "execution_count": 15,
   "metadata": {},
   "outputs": [],
   "source": [
    "x = np.genfromtxt('data.csv',delimiter=',')\n",
    "\n"
   ]
  },
  {
   "cell_type": "markdown",
   "metadata": {},
   "source": [
    "Write exactly *two* lines of code to compute the 'adjusted' exam scores for all students, then to compute the overall course grades."
   ]
  },
  {
   "cell_type": "code",
   "execution_count": 31,
   "metadata": {},
   "outputs": [],
   "source": [
    "#grade (write your code in this cell and DO NOT DELETE THIS LINE)\n",
    "adjusted_x = x+100-np.amax(x,axis=0)\n",
    "grades = np.nanmean(np.where(adjusted_x == np.min(adjusted_x, axis=1)[:, np.newaxis], np.nan, adjusted_x), axis=1)\n",
    "\n"
   ]
  },
  {
   "cell_type": "markdown",
   "metadata": {},
   "source": [
    "You can test your work by looking at the output in the next cells (which you can also modify as you like - these cells will not be graded):"
   ]
  },
  {
   "cell_type": "code",
   "execution_count": 23,
   "metadata": {},
   "outputs": [
    {
     "data": {
      "text/plain": [
       "array([[ 70.,  63.,  78.,  81.,  79.],\n",
       "       [ 63.,  95.,  65.,  75.,  67.],\n",
       "       [ 83.,  77.,  63.,  75.,  97.],\n",
       "       [ 90.,  81.,  77.,  63.,  85.],\n",
       "       [ 70., 100.,  76.,  82.,  64.],\n",
       "       [ 86.,  93.,  81.,  96.,  62.],\n",
       "       [ 96.,  95.,  94.,  93.,  87.],\n",
       "       [ 67.,  70.,  84.,  74.,  67.],\n",
       "       [ 98.,  90.,  90.,  78.,  63.],\n",
       "       [ 80.,  94., 100.,  76.,  86.],\n",
       "       [ 96.,  72., 100.,  66.,  69.],\n",
       "       [100.,  92.,  79.,  66.,  69.],\n",
       "       [ 97.,  96.,  75.,  73., 100.],\n",
       "       [ 80.,  89.,  73.,  82.,  76.],\n",
       "       [ 88.,  91.,  65.,  78.,  80.],\n",
       "       [ 93.,  77.,  62.,  92.,  64.],\n",
       "       [ 76.,  70.,  68.,  74.,  91.],\n",
       "       [ 81.,  62.,  77.,  95.,  65.],\n",
       "       [ 69.,  72.,  69.,  86.,  87.],\n",
       "       [ 85.,  85.,  88.,  66.,  93.],\n",
       "       [ 95.,  99.,  76.,  71.,  62.],\n",
       "       [ 63.,  72.,  92., 100.,  92.],\n",
       "       [ 79.,  69.,  95.,  69.,  83.],\n",
       "       [100., 100.,  69.,  87.,  61.],\n",
       "       [ 62.,  88.,  67.,  92.,  95.],\n",
       "       [ 74.,  94.,  72.,  94.,  77.],\n",
       "       [100.,  82.,  95.,  72.,  66.],\n",
       "       [ 64.,  83.,  77.,  82.,  85.],\n",
       "       [ 72.,  79.,  89.,  80.,  98.],\n",
       "       [ 94.,  73.,  88.,  71.,  62.],\n",
       "       [ 73.,  87.,  65.,  93., 100.],\n",
       "       [ 99.,  96.,  82.,  61.,  80.],\n",
       "       [ 69.,  95.,  77.,  61.,  99.],\n",
       "       [ 83.,  78.,  92.,  66.,  77.],\n",
       "       [ 94.,  96.,  73.,  90.,  94.],\n",
       "       [ 63.,  73.,  88.,  72.,  85.],\n",
       "       [ 76.,  68.,  92.,  82., 100.],\n",
       "       [ 90.,  96.,  87.,  77.,  67.],\n",
       "       [ 88.,  78.,  80.,  68.,  80.],\n",
       "       [ 84.,  61.,  62.,  95.,  86.],\n",
       "       [ 85.,  76.,  62.,  98.,  77.],\n",
       "       [ 99.,  94.,  86.,  86.,  93.],\n",
       "       [ 78.,  89.,  80.,  61.,  79.]])"
      ]
     },
     "execution_count": 23,
     "metadata": {},
     "output_type": "execute_result"
    }
   ],
   "source": [
    "adjusted_x\n"
   ]
  },
  {
   "cell_type": "code",
   "execution_count": 32,
   "metadata": {},
   "outputs": [
    {
     "data": {
      "text/plain": [
       "array([77.        , 75.5       , 83.        , 83.25      , 82.        ,\n",
       "       89.        , 94.5       , 76.        , 89.        , 90.        ,\n",
       "       84.25      , 85.        , 92.        , 81.75      , 84.25      ,\n",
       "       81.5       , 77.75      , 79.5       , 81.66666667, 87.75      ,\n",
       "       85.25      , 89.        , 85.66666667, 89.        , 85.5       ,\n",
       "       84.75      , 87.25      , 81.75      , 86.5       , 81.5       ,\n",
       "       88.25      , 89.25      , 85.        , 82.5       , 93.5       ,\n",
       "       79.5       , 87.5       , 87.5       , 81.5       , 81.75      ,\n",
       "       84.        , 95.33333333, 81.5       ])"
      ]
     },
     "execution_count": 32,
     "metadata": {},
     "output_type": "execute_result"
    }
   ],
   "source": [
    "grades\n"
   ]
  },
  {
   "cell_type": "code",
   "execution_count": null,
   "metadata": {},
   "outputs": [],
   "source": []
  }
 ],
 "metadata": {
  "kernelspec": {
   "display_name": "Python 3",
   "language": "python",
   "name": "python3"
  },
  "language_info": {
   "codemirror_mode": {
    "name": "ipython",
    "version": 3
   },
   "file_extension": ".py",
   "mimetype": "text/x-python",
   "name": "python",
   "nbconvert_exporter": "python",
   "pygments_lexer": "ipython3",
   "version": "3.8.6"
  }
 },
 "nbformat": 4,
 "nbformat_minor": 4
}

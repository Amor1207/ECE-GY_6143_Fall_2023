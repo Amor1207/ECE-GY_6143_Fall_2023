{
 "cells": [
  {
   "cell_type": "markdown",
   "metadata": {},
   "source": [
    "## Train an `AdaBoostClassifier`"
   ]
  },
  {
   "cell_type": "code",
   "execution_count": 1,
   "metadata": {},
   "outputs": [],
   "source": [
    "import numpy as np\n",
    "from sklearn.tree import DecisionTreeClassifier\n",
    "from sklearn.ensemble import AdaBoostClassifier\n",
    "from sklearn.metrics import accuracy_score"
   ]
  },
  {
   "cell_type": "code",
   "execution_count": 2,
   "metadata": {},
   "outputs": [],
   "source": [
    "Xtr = np.load(\"Xtr.npy\")\n",
    "Xts = np.load(\"Xts.npy\")\n",
    "ytr = np.load(\"ytr.npy\").reshape(-1,)\n",
    "yts = np.load(\"yts.npy\").reshape(-1,)"
   ]
  },
  {
   "cell_type": "markdown",
   "metadata": {},
   "source": [
    "Fit an `AdaBoostClassifier` on the training data (according to the specifications in the question). Then, use it to predict the class of the test samples, and save this prediction in `yhat_ts`. Evaluate the accuracy of the classifier's predictions, and save this value in `acc_ts`."
   ]
  },
  {
   "cell_type": "code",
   "execution_count": 4,
   "metadata": {},
   "outputs": [],
   "source": [
    "#grade (write your code in this cell and DO NOT DELETE THIS LINE)\n",
    "\n",
    "# Initialize the AdaBoostClassifier\n",
    "ada_boost = AdaBoostClassifier(n_estimators=5, random_state=42)\n",
    "\n",
    "# Fit the classifier to the training data\n",
    "ada_boost.fit(Xtr, ytr)\n",
    "\n",
    "# Predict the class of the test samples\n",
    "yhat_ts = ada_boost.predict(Xts)\n",
    "\n",
    "# Evaluate the accuracy of the classifier's predictions\n",
    "acc_ts = accuracy_score(yts, yhat_ts)\n"
   ]
  },
  {
   "cell_type": "code",
   "execution_count": null,
   "metadata": {},
   "outputs": [],
   "source": []
  }
 ],
 "metadata": {
  "kernelspec": {
   "display_name": "Python 3",
   "language": "python",
   "name": "python3"
  },
  "language_info": {
   "codemirror_mode": {
    "name": "ipython",
    "version": 3
   },
   "file_extension": ".py",
   "mimetype": "text/x-python",
   "name": "python",
   "nbconvert_exporter": "python",
   "pygments_lexer": "ipython3",
   "version": "3.8.6"
  },
  "vscode": {
   "interpreter": {
    "hash": "e7370f93d1d0cde622a1f8e1c04877d8463912d04d973331ad4851f04de6915a"
   }
  }
 },
 "nbformat": 4,
 "nbformat_minor": 4
}

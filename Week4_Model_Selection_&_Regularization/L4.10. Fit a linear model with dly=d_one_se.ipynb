{
 "cells": [
  {
   "cell_type": "markdown",
   "metadata": {},
   "source": [
    "## Task: Fit a linear model with `dly=d_one_se`"
   ]
  },
  {
   "cell_type": "code",
   "execution_count": 1,
   "metadata": {},
   "outputs": [],
   "source": [
    "import numpy as np\n",
    "import pickle\n",
    "from sklearn.linear_model import LinearRegression\n",
    "from sklearn.metrics import r2_score, mean_squared_error\n",
    "from sklearn.model_selection import train_test_split, KFold"
   ]
  },
  {
   "cell_type": "code",
   "execution_count": 2,
   "metadata": {},
   "outputs": [],
   "source": [
    "with open('example_data_s1.pickle', 'rb') as fp:\n",
    "    X,y = pickle.load(fp)\n",
    "\n",
    "tsamp = 0.05  \n",
    "nt, nneuron = X.shape\n",
    "nout = y.shape[1]\n",
    "ttotal = nt*tsamp\n",
    "\n",
    "\n",
    "nred = 6000\n",
    "Xred = X[:nred]\n",
    "yred = y[:nred]"
   ]
  },
  {
   "cell_type": "code",
   "execution_count": 3,
   "metadata": {},
   "outputs": [],
   "source": [
    "def create_dly_data(X,y,dly):\n",
    "    \"\"\"\n",
    "    Create delayed data\n",
    "    \"\"\"    \n",
    "    n,p = X.shape\n",
    "    Xdly = np.zeros((n-dly,(dly+1)*p))\n",
    "    for i in range(dly+1):\n",
    "        Xdly[:,i*p:(i+1)*p] = X[dly-i:n-i,:]\n",
    "    ydly = y[dly:]\n",
    "    \n",
    "    return Xdly, ydly"
   ]
  },
  {
   "cell_type": "code",
   "execution_count": 4,
   "metadata": {},
   "outputs": [],
   "source": [
    "dmax = 15\n",
    "Xdly, ydly = create_dly_data(Xred,yred,dmax) "
   ]
  },
  {
   "cell_type": "markdown",
   "metadata": {},
   "source": [
    "Assign to `d_one_se` the value you found in your Colab notebook:"
   ]
  },
  {
   "cell_type": "code",
   "execution_count": 5,
   "metadata": {},
   "outputs": [],
   "source": [
    "#grade (write your code in this cell and DO NOT DELETE THIS LINE)\n",
    "d_one_se = 6"
   ]
  },
  {
   "cell_type": "markdown",
   "metadata": {},
   "source": [
    "Now that we have selected a model order, we can fit the (reduced) data\n",
    "to that model."
   ]
  },
  {
   "cell_type": "markdown",
   "metadata": {},
   "source": [
    "Use all rows of `Xdly` and `ydly` (but select appropriate columns)\n",
    "to fit a linear regression model using the\n",
    "best delay according to the one SE rule.\n"
   ]
  },
  {
   "cell_type": "code",
   "execution_count": 6,
   "metadata": {},
   "outputs": [],
   "source": [
    "#grade (write your code in this cell and DO NOT DELETE THIS LINE)\n",
    "# Fit model on all rows of Xdly, ydly (select appropriate columns!)\n",
    "# Select the appropriate columns of Xdly based on the best delay according to the one SE rule\n",
    "X_dly_best = Xdly[:, :X.shape[1]*(d_one_se+1)]\n",
    "\n",
    "# Fit the linear regression model using the best delay\n",
    "reg_best = LinearRegression().fit(X_dly_best, ydly)"
   ]
  },
  {
   "cell_type": "markdown",
   "metadata": {},
   "source": [
    "Then, define a test set using data that was not used to train the model:\n"
   ]
  },
  {
   "cell_type": "code",
   "execution_count": 9,
   "metadata": {},
   "outputs": [],
   "source": [
    "#grade (do not modify this cell)\n",
    "# if d_one_se is the optimal model order, you can use\n",
    "# for this workspace, we'll use a slightly different test set than the Colab notebook\n",
    "Xts = X[nred+1:nred+1001+d_one_se]\n",
    "yts = y[nred+1:nred+1001+d_one_se]\n",
    "# and then use \n",
    "Xts_dly, yts_dly = create_dly_data(Xts,yts,d_one_se)"
   ]
  },
  {
   "cell_type": "markdown",
   "metadata": {},
   "source": [
    "Use your fitted model to find the R2 score on this test set."
   ]
  },
  {
   "cell_type": "code",
   "execution_count": 12,
   "metadata": {},
   "outputs": [],
   "source": [
    "#grade (write your code in this cell and DO NOT DELETE THIS LINE)\n",
    "# Prepare the test data by selecting the appropriate columns based on d_one_se\n",
    "Xts_dly_best = Xts_dly[:, :X.shape[1]*(d_one_se+1)]\n",
    "\n",
    "# Predict the velocities on the test set using the fitted model\n",
    "yhat = reg_best.predict(Xts_dly_best)\n",
    "\n",
    "# Compute the R^2 score using the actual and predicted velocities\n",
    "rsq = r2_score(yts_dly, yhat)"
   ]
  },
  {
   "cell_type": "code",
   "execution_count": null,
   "metadata": {},
   "outputs": [],
   "source": []
  }
 ],
 "metadata": {
  "kernelspec": {
   "display_name": "Python 3",
   "language": "python",
   "name": "python3"
  },
  "language_info": {
   "codemirror_mode": {
    "name": "ipython",
    "version": 3
   },
   "file_extension": ".py",
   "mimetype": "text/x-python",
   "name": "python",
   "nbconvert_exporter": "python",
   "pygments_lexer": "ipython3",
   "version": "3.8.6"
  },
  "vscode": {
   "interpreter": {
    "hash": "e7370f93d1d0cde622a1f8e1c04877d8463912d04d973331ad4851f04de6915a"
   }
  }
 },
 "nbformat": 4,
 "nbformat_minor": 4
}

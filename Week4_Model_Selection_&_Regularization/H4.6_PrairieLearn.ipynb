{
  "cells": [
    {
      "cell_type": "code",
      "execution_count": null,
      "metadata": {
        "id": "z2TkU89M0Ar6"
      },
      "outputs": [],
      "source": [
        "from sklearn.linear_model import LinearRegression\n",
        "from sklearn.model_selection import KFold, train_test_split\n",
        "from sklearn.metrics import mean_squared_error, r2_score\n",
        "from sklearn.preprocessing import PolynomialFeatures\n",
        "\n",
        "import numpy as np\n",
        "import pandas as pd"
      ]
    },
    {
      "cell_type": "markdown",
      "metadata": {
        "id": "mWFZ3nCi1Q4e"
      },
      "source": [
        "In the following cells, you will load in the Brooklyn Bridge pedestrian traffic dataset, which you have worked with before for exploratory data analysis. \n",
        "\n",
        "You will train a model to predict pedestrian traffic based on the following features: temperature, precipitation, hour, whether or not it is a weekend, and whether or not it is a holiday or other special event.\n",
        "\n",
        "Your feature data is loaded into `X` and the target variable is loaded into `y`."
      ]
    },
    {
      "cell_type": "code",
      "execution_count": null,
      "metadata": {
        "id": "hx7ejdgHqgho"
      },
      "outputs": [],
      "source": [
        "df = pd.read_excel('brooklyn-bridge-automated-counts.xlsx')\n",
        "df['hour'] = df['hour_beginning'].dt.hour\n",
        "df['date'] = df['hour_beginning'].dt.date\n",
        "df['day_name'] = df['hour_beginning'].dt.day_name()\n",
        "df['day_no'] = df['hour_beginning'].dt.dayofweek\n",
        "df['temperature'] = df['temperature'].fillna(method=\"ffill\")\n",
        "df['precipitation'] = df['precipitation'].fillna(method=\"ffill\")\n",
        "df['weather_summary'] = df['weather_summary'].fillna(method=\"ffill\")\n",
        "df['is_weekend'] = df['day_no'].isin([5, 6]).astype('int')\n",
        "df['is_holiday'] = df['events'].notnull().astype('int')"
      ]
    },
    {
      "cell_type": "code",
      "execution_count": null,
      "metadata": {
        "id": "8pZlRmV7qodf"
      },
      "outputs": [],
      "source": [
        "X = np.array(df[['temperature', 'precipitation', 'hour', 'is_weekend', 'is_holiday']])\n",
        "y = np.array(df['Pedestrians'])"
      ]
    },
    {
      "cell_type": "markdown",
      "metadata": {
        "id": "bKX8JF9G1SV4"
      },
      "source": [
        "You have reason to believe that there may be interaction effects or non-linear effects of these features on the target variable. For example, if it is cold *and* rainy, that may have more of a deterrent effect on pedestrians than just the sum of the effects of cold and rainy individually.\n",
        "\n",
        "So, before training a model, you will use the `sklearn` `PolynomialFeatures` function to generate polynomial and interaction features. According to its documentation, this function will:\n",
        "\n",
        "> Generate a new feature matrix consisting of all polynomial combinations of the features with degree less than or equal to the specified degree. For example, if an input sample is two dimensional and of the form [a, b], the degree-2 polynomial features are [1, a, b, a^2, ab, b^2].\n",
        "\n",
        "\n",
        "For example, this code will generate the degree-2 polynomial features for the Brooklyn Bridge data in `X`:\n",
        "\n",
        "\n",
        "\n"
      ]
    },
    {
      "cell_type": "code",
      "execution_count": null,
      "metadata": {
        "id": "tP-Vs8u4Za1e"
      },
      "outputs": [],
      "source": [
        "poly = PolynomialFeatures(degree=2)\n",
        "X_trans = poly.fit_transform(X)\n",
        "X_trans.shape"
      ]
    },
    {
      "cell_type": "markdown",
      "metadata": {
        "id": "mTAKGEbybTjd"
      },
      "source": [
        "where the new features are:"
      ]
    },
    {
      "cell_type": "code",
      "execution_count": null,
      "metadata": {
        "id": "iqMpsPeEbRhP"
      },
      "outputs": [],
      "source": [
        "for i, f in enumerate(poly.get_feature_names()):\n",
        "  print(i, f)"
      ]
    },
    {
      "cell_type": "markdown",
      "metadata": {
        "id": "nM9tTkuq1Xg7"
      },
      "source": [
        "You are interested in training a linear regression on this data, to predict the number of pedestrians, but you don't know what degree of polynomial to use. \n",
        "\n",
        "You decide to evaluate linear models on transformed versions of `X` up to degree 5 (including degree 5), to see which has the best performance in a linear regression."
      ]
    },
    {
      "cell_type": "markdown",
      "metadata": {
        "id": "gjsVskAECSyg"
      },
      "source": [
        "First, you use `PolynomialFeatures` to create a transformed data set with polynomial features up to and including degree 5. "
      ]
    },
    {
      "cell_type": "code",
      "execution_count": null,
      "metadata": {
        "id": "mzvB5holChn2"
      },
      "outputs": [],
      "source": [
        "poly = PolynomialFeatures(degree=5)\n",
        "X_trans = poly.fit_transform(X)"
      ]
    },
    {
      "cell_type": "code",
      "execution_count": null,
      "metadata": {
        "id": "KHsj9TYnEM7f"
      },
      "outputs": [],
      "source": [
        "X_trans_names = poly.get_feature_names()"
      ]
    },
    {
      "attachments": {},
      "cell_type": "markdown",
      "metadata": {
        "id": "jlvk_2TcBvD1"
      },
      "source": [
        "Then, you set aside 30% of `X_trans` for evaluating the final model at the end.  Save the result in `X_tr`, `y_tr`, `X_ts`, and `y_ts`. \n",
        "\n",
        "You use `sklearn`'s `train_test_split` without shuffling (because of the temporal structure of the data)."
      ]
    },
    {
      "cell_type": "code",
      "execution_count": null,
      "metadata": {
        "id": "MXeG3qa2Buci"
      },
      "outputs": [],
      "source": [
        "X_tr, X_ts, y_tr, y_ts = train_test_split(X_trans, y, test_size = 0.3, shuffle=False)"
      ]
    },
    {
      "cell_type": "markdown",
      "metadata": {
        "id": "nYxW6UM41lvF"
      },
      "source": [
        "Now, you will use 10-fold cross validation (with `sklearn`'s `KFold`) to evaluate each `degree` from 0 to 5 (including 5) in an `sklearn` `LinearRegression` model, using `r2_score` for the metric.  "
      ]
    },
    {
      "attachments": {},
      "cell_type": "markdown",
      "metadata": {
        "id": "M4Fy5b58HJs_"
      },
      "source": [
        "In your cross validation, you will save the validation R2 for each degree in an array called `r2_val`, and save the training R2 in an array called `r2_train`.\n",
        "\n",
        "\n",
        "\n"
      ]
    },
    {
      "cell_type": "code",
      "execution_count": null,
      "metadata": {
        "id": "44anmfCTFowO"
      },
      "outputs": [],
      "source": [
        "nd = 6\n",
        "nfold = 10\n",
        "\n",
        "r2_train = np.zeros((nd,nfold))\n",
        "r2_val = np.zeros((nd,nfold))"
      ]
    },
    {
      "cell_type": "code",
      "execution_count": null,
      "metadata": {
        "id": "Q0WXXzozkwFA"
      },
      "outputs": [],
      "source": [
        "#grade (write your code in this cell and DO NOT DELETE THIS LINE)\n",
        "\n",
        "# note: only the code in this cell and the code provided for you will be \n",
        "# passed to the autograder. If you define any additional variables\n",
        "# that are required to run this cell, make sure they are defined in this cell!\n",
        "\n",
        "\n",
        "kf = KFold(n_splits=nfold, shuffle=False)\n",
        "kf.get_n_splits(X_tr)\n",
        "\n",
        "for isplit, idx in enumerate(kf.split(X_tr)):\n",
        "        \n",
        "    ...\n"
      ]
    },
    {
      "cell_type": "markdown",
      "metadata": {
        "id": "1AIukYdII6gu"
      },
      "source": [
        "Then, create an array `r2_mean` with the mean R2 value for each degree, across K folds. "
      ]
    },
    {
      "cell_type": "code",
      "execution_count": null,
      "metadata": {
        "id": "9PLIohdnI5nA"
      },
      "outputs": [],
      "source": [
        "#grade (write your code in this cell and DO NOT DELETE THIS LINE)\n",
        "r2_mean = ..."
      ]
    },
    {
      "cell_type": "markdown",
      "metadata": {
        "id": "X3L_uurF2NhO"
      },
      "source": [
        "Finally, select the model with the best validation R2. Save the model order in `d_opt`."
      ]
    },
    {
      "cell_type": "code",
      "execution_count": null,
      "metadata": {
        "id": "SssTmaf1kwu4"
      },
      "outputs": [],
      "source": [
        "#grade (write your code in this cell and DO NOT DELETE THIS LINE)\n",
        "d_opt = ..."
      ]
    }
  ],
  "metadata": {
    "colab": {
      "collapsed_sections": [],
      "name": "Workbook.ipynb",
      "provenance": []
    },
    "kernelspec": {
      "display_name": "Python 3",
      "name": "python3"
    },
    "language_info": {
      "name": "python"
    }
  },
  "nbformat": 4,
  "nbformat_minor": 0
}

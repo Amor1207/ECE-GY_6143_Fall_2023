{
 "cells": [
  {
   "cell_type": "code",
   "execution_count": 1,
   "metadata": {
    "id": "z2TkU89M0Ar6"
   },
   "outputs": [],
   "source": [
    "from sklearn.linear_model import LinearRegression\n",
    "from sklearn.model_selection import KFold, train_test_split\n",
    "from sklearn.metrics import mean_squared_error, r2_score\n",
    "from sklearn.preprocessing import PolynomialFeatures\n",
    "from sklearn.feature_selection import SelectKBest, f_regression\n",
    "import numpy as np\n",
    "import pandas as pd\n",
    "import math"
   ]
  },
  {
   "cell_type": "markdown",
   "metadata": {
    "id": "mWFZ3nCi1Q4e"
   },
   "source": [
    "In the following cells, you will load in the Brooklyn Bridge pedestrian traffic dataset, which you have worked with before for exploratory data analysis. \n",
    "\n",
    "You will train a model to predict pedestrian traffic based on the following features: temperature, precipitation, hour, whether or not it is a weekend, and whether or not it is a holiday or other special event.\n",
    "\n",
    "Your feature data is loaded into `X` and the target variable is loaded into `y`."
   ]
  },
  {
   "cell_type": "code",
   "execution_count": 2,
   "metadata": {
    "id": "hx7ejdgHqgho"
   },
   "outputs": [
    {
     "data": {
      "text/html": [
       "<div>\n",
       "<style scoped>\n",
       "    .dataframe tbody tr th:only-of-type {\n",
       "        vertical-align: middle;\n",
       "    }\n",
       "\n",
       "    .dataframe tbody tr th {\n",
       "        vertical-align: top;\n",
       "    }\n",
       "\n",
       "    .dataframe thead th {\n",
       "        text-align: right;\n",
       "    }\n",
       "</style>\n",
       "<table border=\"1\" class=\"dataframe\">\n",
       "  <thead>\n",
       "    <tr style=\"text-align: right;\">\n",
       "      <th></th>\n",
       "      <th>hour_beginning</th>\n",
       "      <th>location</th>\n",
       "      <th>Pedestrians</th>\n",
       "      <th>Towards Manhattan</th>\n",
       "      <th>Towards Brooklyn</th>\n",
       "      <th>weather_summary</th>\n",
       "      <th>temperature</th>\n",
       "      <th>precipitation</th>\n",
       "      <th>lat</th>\n",
       "      <th>long</th>\n",
       "      <th>events</th>\n",
       "      <th>hour</th>\n",
       "      <th>date</th>\n",
       "      <th>day_name</th>\n",
       "      <th>day_no</th>\n",
       "      <th>is_weekend</th>\n",
       "      <th>is_holiday</th>\n",
       "    </tr>\n",
       "  </thead>\n",
       "  <tbody>\n",
       "    <tr>\n",
       "      <th>0</th>\n",
       "      <td>2017-10-01 00:00:00</td>\n",
       "      <td>Brooklyn Bridge</td>\n",
       "      <td>44</td>\n",
       "      <td>30</td>\n",
       "      <td>14</td>\n",
       "      <td>clear-night</td>\n",
       "      <td>52.0</td>\n",
       "      <td>0.0001</td>\n",
       "      <td>40.708164</td>\n",
       "      <td>-73.999509</td>\n",
       "      <td>NaN</td>\n",
       "      <td>0</td>\n",
       "      <td>2017-10-01</td>\n",
       "      <td>Sunday</td>\n",
       "      <td>6</td>\n",
       "      <td>1</td>\n",
       "      <td>0</td>\n",
       "    </tr>\n",
       "    <tr>\n",
       "      <th>1</th>\n",
       "      <td>2017-10-01 01:00:00</td>\n",
       "      <td>Brooklyn Bridge</td>\n",
       "      <td>30</td>\n",
       "      <td>17</td>\n",
       "      <td>13</td>\n",
       "      <td>partly-cloudy-night</td>\n",
       "      <td>53.0</td>\n",
       "      <td>0.0002</td>\n",
       "      <td>40.708164</td>\n",
       "      <td>-73.999509</td>\n",
       "      <td>NaN</td>\n",
       "      <td>1</td>\n",
       "      <td>2017-10-01</td>\n",
       "      <td>Sunday</td>\n",
       "      <td>6</td>\n",
       "      <td>1</td>\n",
       "      <td>0</td>\n",
       "    </tr>\n",
       "    <tr>\n",
       "      <th>2</th>\n",
       "      <td>2017-10-01 02:00:00</td>\n",
       "      <td>Brooklyn Bridge</td>\n",
       "      <td>25</td>\n",
       "      <td>13</td>\n",
       "      <td>12</td>\n",
       "      <td>partly-cloudy-night</td>\n",
       "      <td>52.0</td>\n",
       "      <td>0.0000</td>\n",
       "      <td>40.708164</td>\n",
       "      <td>-73.999509</td>\n",
       "      <td>NaN</td>\n",
       "      <td>2</td>\n",
       "      <td>2017-10-01</td>\n",
       "      <td>Sunday</td>\n",
       "      <td>6</td>\n",
       "      <td>1</td>\n",
       "      <td>0</td>\n",
       "    </tr>\n",
       "    <tr>\n",
       "      <th>3</th>\n",
       "      <td>2017-10-01 03:00:00</td>\n",
       "      <td>Brooklyn Bridge</td>\n",
       "      <td>20</td>\n",
       "      <td>11</td>\n",
       "      <td>9</td>\n",
       "      <td>partly-cloudy-night</td>\n",
       "      <td>51.0</td>\n",
       "      <td>0.0000</td>\n",
       "      <td>40.708164</td>\n",
       "      <td>-73.999509</td>\n",
       "      <td>NaN</td>\n",
       "      <td>3</td>\n",
       "      <td>2017-10-01</td>\n",
       "      <td>Sunday</td>\n",
       "      <td>6</td>\n",
       "      <td>1</td>\n",
       "      <td>0</td>\n",
       "    </tr>\n",
       "    <tr>\n",
       "      <th>4</th>\n",
       "      <td>2017-10-01 04:00:00</td>\n",
       "      <td>Brooklyn Bridge</td>\n",
       "      <td>18</td>\n",
       "      <td>10</td>\n",
       "      <td>8</td>\n",
       "      <td>partly-cloudy-night</td>\n",
       "      <td>51.0</td>\n",
       "      <td>0.0000</td>\n",
       "      <td>40.708164</td>\n",
       "      <td>-73.999509</td>\n",
       "      <td>NaN</td>\n",
       "      <td>4</td>\n",
       "      <td>2017-10-01</td>\n",
       "      <td>Sunday</td>\n",
       "      <td>6</td>\n",
       "      <td>1</td>\n",
       "      <td>0</td>\n",
       "    </tr>\n",
       "    <tr>\n",
       "      <th>...</th>\n",
       "      <td>...</td>\n",
       "      <td>...</td>\n",
       "      <td>...</td>\n",
       "      <td>...</td>\n",
       "      <td>...</td>\n",
       "      <td>...</td>\n",
       "      <td>...</td>\n",
       "      <td>...</td>\n",
       "      <td>...</td>\n",
       "      <td>...</td>\n",
       "      <td>...</td>\n",
       "      <td>...</td>\n",
       "      <td>...</td>\n",
       "      <td>...</td>\n",
       "      <td>...</td>\n",
       "      <td>...</td>\n",
       "      <td>...</td>\n",
       "    </tr>\n",
       "    <tr>\n",
       "      <th>7291</th>\n",
       "      <td>2018-07-31 19:00:00</td>\n",
       "      <td>Brooklyn Bridge</td>\n",
       "      <td>1913</td>\n",
       "      <td>1009</td>\n",
       "      <td>904</td>\n",
       "      <td>partly-cloudy-day</td>\n",
       "      <td>76.0</td>\n",
       "      <td>0.0000</td>\n",
       "      <td>40.708164</td>\n",
       "      <td>-73.999509</td>\n",
       "      <td>NaN</td>\n",
       "      <td>19</td>\n",
       "      <td>2018-07-31</td>\n",
       "      <td>Tuesday</td>\n",
       "      <td>1</td>\n",
       "      <td>0</td>\n",
       "      <td>0</td>\n",
       "    </tr>\n",
       "    <tr>\n",
       "      <th>7292</th>\n",
       "      <td>2018-07-31 20:00:00</td>\n",
       "      <td>Brooklyn Bridge</td>\n",
       "      <td>1302</td>\n",
       "      <td>591</td>\n",
       "      <td>711</td>\n",
       "      <td>partly-cloudy-day</td>\n",
       "      <td>75.0</td>\n",
       "      <td>0.0000</td>\n",
       "      <td>40.708164</td>\n",
       "      <td>-73.999509</td>\n",
       "      <td>NaN</td>\n",
       "      <td>20</td>\n",
       "      <td>2018-07-31</td>\n",
       "      <td>Tuesday</td>\n",
       "      <td>1</td>\n",
       "      <td>0</td>\n",
       "      <td>0</td>\n",
       "    </tr>\n",
       "    <tr>\n",
       "      <th>7293</th>\n",
       "      <td>2018-07-31 21:00:00</td>\n",
       "      <td>Brooklyn Bridge</td>\n",
       "      <td>880</td>\n",
       "      <td>331</td>\n",
       "      <td>549</td>\n",
       "      <td>partly-cloudy-night</td>\n",
       "      <td>74.0</td>\n",
       "      <td>0.0000</td>\n",
       "      <td>40.708164</td>\n",
       "      <td>-73.999509</td>\n",
       "      <td>NaN</td>\n",
       "      <td>21</td>\n",
       "      <td>2018-07-31</td>\n",
       "      <td>Tuesday</td>\n",
       "      <td>1</td>\n",
       "      <td>0</td>\n",
       "      <td>0</td>\n",
       "    </tr>\n",
       "    <tr>\n",
       "      <th>7294</th>\n",
       "      <td>2018-07-31 22:00:00</td>\n",
       "      <td>Brooklyn Bridge</td>\n",
       "      <td>463</td>\n",
       "      <td>206</td>\n",
       "      <td>257</td>\n",
       "      <td>partly-cloudy-night</td>\n",
       "      <td>74.0</td>\n",
       "      <td>0.0000</td>\n",
       "      <td>40.708164</td>\n",
       "      <td>-73.999509</td>\n",
       "      <td>NaN</td>\n",
       "      <td>22</td>\n",
       "      <td>2018-07-31</td>\n",
       "      <td>Tuesday</td>\n",
       "      <td>1</td>\n",
       "      <td>0</td>\n",
       "      <td>0</td>\n",
       "    </tr>\n",
       "    <tr>\n",
       "      <th>7295</th>\n",
       "      <td>2018-07-31 23:00:00</td>\n",
       "      <td>Brooklyn Bridge</td>\n",
       "      <td>248</td>\n",
       "      <td>109</td>\n",
       "      <td>139</td>\n",
       "      <td>partly-cloudy-night</td>\n",
       "      <td>73.0</td>\n",
       "      <td>0.0000</td>\n",
       "      <td>40.708164</td>\n",
       "      <td>-73.999509</td>\n",
       "      <td>NaN</td>\n",
       "      <td>23</td>\n",
       "      <td>2018-07-31</td>\n",
       "      <td>Tuesday</td>\n",
       "      <td>1</td>\n",
       "      <td>0</td>\n",
       "      <td>0</td>\n",
       "    </tr>\n",
       "  </tbody>\n",
       "</table>\n",
       "<p>7296 rows × 17 columns</p>\n",
       "</div>"
      ],
      "text/plain": [
       "          hour_beginning         location  Pedestrians  Towards Manhattan  \\\n",
       "0    2017-10-01 00:00:00  Brooklyn Bridge           44                 30   \n",
       "1    2017-10-01 01:00:00  Brooklyn Bridge           30                 17   \n",
       "2    2017-10-01 02:00:00  Brooklyn Bridge           25                 13   \n",
       "3    2017-10-01 03:00:00  Brooklyn Bridge           20                 11   \n",
       "4    2017-10-01 04:00:00  Brooklyn Bridge           18                 10   \n",
       "...                  ...              ...          ...                ...   \n",
       "7291 2018-07-31 19:00:00  Brooklyn Bridge         1913               1009   \n",
       "7292 2018-07-31 20:00:00  Brooklyn Bridge         1302                591   \n",
       "7293 2018-07-31 21:00:00  Brooklyn Bridge          880                331   \n",
       "7294 2018-07-31 22:00:00  Brooklyn Bridge          463                206   \n",
       "7295 2018-07-31 23:00:00  Brooklyn Bridge          248                109   \n",
       "\n",
       "      Towards Brooklyn      weather_summary  temperature  precipitation  \\\n",
       "0                   14          clear-night         52.0         0.0001   \n",
       "1                   13  partly-cloudy-night         53.0         0.0002   \n",
       "2                   12  partly-cloudy-night         52.0         0.0000   \n",
       "3                    9  partly-cloudy-night         51.0         0.0000   \n",
       "4                    8  partly-cloudy-night         51.0         0.0000   \n",
       "...                ...                  ...          ...            ...   \n",
       "7291               904    partly-cloudy-day         76.0         0.0000   \n",
       "7292               711    partly-cloudy-day         75.0         0.0000   \n",
       "7293               549  partly-cloudy-night         74.0         0.0000   \n",
       "7294               257  partly-cloudy-night         74.0         0.0000   \n",
       "7295               139  partly-cloudy-night         73.0         0.0000   \n",
       "\n",
       "            lat       long events  hour        date day_name  day_no  \\\n",
       "0     40.708164 -73.999509    NaN     0  2017-10-01   Sunday       6   \n",
       "1     40.708164 -73.999509    NaN     1  2017-10-01   Sunday       6   \n",
       "2     40.708164 -73.999509    NaN     2  2017-10-01   Sunday       6   \n",
       "3     40.708164 -73.999509    NaN     3  2017-10-01   Sunday       6   \n",
       "4     40.708164 -73.999509    NaN     4  2017-10-01   Sunday       6   \n",
       "...         ...        ...    ...   ...         ...      ...     ...   \n",
       "7291  40.708164 -73.999509    NaN    19  2018-07-31  Tuesday       1   \n",
       "7292  40.708164 -73.999509    NaN    20  2018-07-31  Tuesday       1   \n",
       "7293  40.708164 -73.999509    NaN    21  2018-07-31  Tuesday       1   \n",
       "7294  40.708164 -73.999509    NaN    22  2018-07-31  Tuesday       1   \n",
       "7295  40.708164 -73.999509    NaN    23  2018-07-31  Tuesday       1   \n",
       "\n",
       "      is_weekend  is_holiday  \n",
       "0              1           0  \n",
       "1              1           0  \n",
       "2              1           0  \n",
       "3              1           0  \n",
       "4              1           0  \n",
       "...          ...         ...  \n",
       "7291           0           0  \n",
       "7292           0           0  \n",
       "7293           0           0  \n",
       "7294           0           0  \n",
       "7295           0           0  \n",
       "\n",
       "[7296 rows x 17 columns]"
      ]
     },
     "execution_count": 2,
     "metadata": {},
     "output_type": "execute_result"
    }
   ],
   "source": [
    "df = pd.read_excel('brooklyn-bridge-automated-counts.xlsx')\n",
    "df['hour'] = df['hour_beginning'].dt.hour\n",
    "df['date'] = df['hour_beginning'].dt.date\n",
    "df['day_name'] = df['hour_beginning'].dt.day_name()\n",
    "df['day_no'] = df['hour_beginning'].dt.dayofweek\n",
    "df['temperature'] = df['temperature'].fillna(method=\"ffill\")\n",
    "df['precipitation'] = df['precipitation'].fillna(method=\"ffill\")\n",
    "df['weather_summary'] = df['weather_summary'].fillna(method=\"ffill\")\n",
    "df['is_weekend'] = df['day_no'].isin([5, 6]).astype('int')\n",
    "df['is_holiday'] = df['events'].notnull().astype('int')\n",
    "df"
   ]
  },
  {
   "cell_type": "code",
   "execution_count": 3,
   "metadata": {
    "id": "8pZlRmV7qodf"
   },
   "outputs": [
    {
     "data": {
      "text/plain": [
       "array([[5.2e+01, 1.0e-04, 0.0e+00, 1.0e+00, 0.0e+00],\n",
       "       [5.3e+01, 2.0e-04, 1.0e+00, 1.0e+00, 0.0e+00],\n",
       "       [5.2e+01, 0.0e+00, 2.0e+00, 1.0e+00, 0.0e+00],\n",
       "       ...,\n",
       "       [7.4e+01, 0.0e+00, 2.1e+01, 0.0e+00, 0.0e+00],\n",
       "       [7.4e+01, 0.0e+00, 2.2e+01, 0.0e+00, 0.0e+00],\n",
       "       [7.3e+01, 0.0e+00, 2.3e+01, 0.0e+00, 0.0e+00]])"
      ]
     },
     "execution_count": 3,
     "metadata": {},
     "output_type": "execute_result"
    }
   ],
   "source": [
    "X = np.array(df[['temperature', 'precipitation', 'hour', 'is_weekend', 'is_holiday']])\n",
    "y = np.array(df['Pedestrians'])\n",
    "X"
   ]
  },
  {
   "cell_type": "markdown",
   "metadata": {
    "id": "bKX8JF9G1SV4"
   },
   "source": [
    "You have reason to believe that there may be interaction effects or non-linear effects of these features on the target variable. For example, if it is cold *and* rainy, that may have more of a deterrent effect on pedestrians than just the sum of the effects of cold and rainy individually.\n",
    "\n",
    "So, before training a model, you will use the `sklearn` `PolynomialFeatures` function to generate polynomial and interaction features. According to its documentation, this function will:\n",
    "\n",
    "> Generate a new feature matrix consisting of all polynomial combinations of the features with degree less than or equal to the specified degree. For example, if an input sample is two dimensional and of the form [a, b], the degree-2 polynomial features are [1, a, b, a^2, ab, b^2].\n",
    "\n",
    "\n",
    "For example, this code will generate the degree-2 polynomial features for the Brooklyn Bridge data in `X`:\n",
    "\n",
    "\n",
    "\n"
   ]
  },
  {
   "cell_type": "code",
   "execution_count": 4,
   "metadata": {
    "id": "tP-Vs8u4Za1e"
   },
   "outputs": [
    {
     "data": {
      "text/plain": [
       "(7296, 21)"
      ]
     },
     "execution_count": 4,
     "metadata": {},
     "output_type": "execute_result"
    }
   ],
   "source": [
    "poly = PolynomialFeatures(degree=2)\n",
    "X_trans = poly.fit_transform(X)\n",
    "X_trans.shape"
   ]
  },
  {
   "cell_type": "markdown",
   "metadata": {
    "id": "mTAKGEbybTjd"
   },
   "source": [
    "where the new features are:"
   ]
  },
  {
   "cell_type": "code",
   "execution_count": 5,
   "metadata": {
    "id": "iqMpsPeEbRhP"
   },
   "outputs": [
    {
     "name": "stdout",
     "output_type": "stream",
     "text": [
      "0 1\n",
      "1 x0\n",
      "2 x1\n",
      "3 x2\n",
      "4 x3\n",
      "5 x4\n",
      "6 x0^2\n",
      "7 x0 x1\n",
      "8 x0 x2\n",
      "9 x0 x3\n",
      "10 x0 x4\n",
      "11 x1^2\n",
      "12 x1 x2\n",
      "13 x1 x3\n",
      "14 x1 x4\n",
      "15 x2^2\n",
      "16 x2 x3\n",
      "17 x2 x4\n",
      "18 x3^2\n",
      "19 x3 x4\n",
      "20 x4^2\n"
     ]
    }
   ],
   "source": [
    "for i, f in enumerate(poly.get_feature_names()):\n",
    "  print(i, f)"
   ]
  },
  {
   "cell_type": "markdown",
   "metadata": {
    "id": "nM9tTkuq1Xg7"
   },
   "source": [
    "You are interested in training a linear regression on this data, to predict the number of pedestrians, but you don't know what degree of polynomial to use. \n",
    "\n",
    "You decide to evaluate linear models on transformed versions of `X` up to degree 5 (including degree 5), to see which has the best performance in a linear regression."
   ]
  },
  {
   "cell_type": "markdown",
   "metadata": {
    "id": "gjsVskAECSyg"
   },
   "source": [
    "First, you use `PolynomialFeatures` to create a transformed data set with polynomial features up to and including degree 5. "
   ]
  },
  {
   "cell_type": "code",
   "execution_count": 6,
   "metadata": {
    "id": "mzvB5holChn2"
   },
   "outputs": [],
   "source": [
    "poly = PolynomialFeatures(degree=5)\n",
    "X_trans = poly.fit_transform(X)"
   ]
  },
  {
   "cell_type": "code",
   "execution_count": 7,
   "metadata": {},
   "outputs": [
    {
     "data": {
      "text/plain": [
       "(7296, 252)"
      ]
     },
     "execution_count": 7,
     "metadata": {},
     "output_type": "execute_result"
    }
   ],
   "source": [
    "X_trans.shape"
   ]
  },
  {
   "cell_type": "code",
   "execution_count": 8,
   "metadata": {
    "id": "KHsj9TYnEM7f"
   },
   "outputs": [],
   "source": [
    "X_trans_names = poly.get_feature_names()"
   ]
  },
  {
   "cell_type": "markdown",
   "metadata": {
    "id": "jlvk_2TcBvD1"
   },
   "source": [
    "Then, you set aside 30% of `X_trans` for evaluating the final model at the end.  Save the result in `X_tr`, `y_tr`, `X_ts`, and `y_ts`. \n",
    "\n",
    "You use `sklearn`'s `train_test_split` without shuffling (because of the temporal structure of the data)."
   ]
  },
  {
   "cell_type": "code",
   "execution_count": 9,
   "metadata": {
    "id": "MXeG3qa2Buci"
   },
   "outputs": [],
   "source": [
    "X_tr, X_ts, y_tr, y_ts = train_test_split(X_trans, y, test_size = 0.3, shuffle=False)"
   ]
  },
  {
   "cell_type": "code",
   "execution_count": 10,
   "metadata": {},
   "outputs": [
    {
     "data": {
      "text/plain": [
       "(5107, 252)"
      ]
     },
     "execution_count": 10,
     "metadata": {},
     "output_type": "execute_result"
    }
   ],
   "source": [
    "X_tr.shape"
   ]
  },
  {
   "cell_type": "markdown",
   "metadata": {
    "id": "nYxW6UM41lvF"
   },
   "source": [
    "Now, you will use 10-fold cross validation (with `sklearn`'s `KFold`) to evaluate each `degree` from 0 to 5 (including 5) in an `sklearn` `LinearRegression` model, using `r2_score` for the metric.  "
   ]
  },
  {
   "cell_type": "markdown",
   "metadata": {
    "id": "M4Fy5b58HJs_"
   },
   "source": [
    "In your cross validation, you will save the validation R2 for each degree in an array called `r2_val`, and save the training R2 in an array called `r2_train`.\n",
    "\n",
    "\n",
    "\n"
   ]
  },
  {
   "cell_type": "code",
   "execution_count": 11,
   "metadata": {
    "id": "44anmfCTFowO"
   },
   "outputs": [],
   "source": [
    "nd = 6\n",
    "nfold = 10\n",
    "r2_train = np.zeros((nd, nfold))\n",
    "r2_val = np.zeros((nd, nfold))"
   ]
  },
  {
   "cell_type": "code",
   "execution_count": 12,
   "metadata": {
    "id": "Q0WXXzozkwFA"
   },
   "outputs": [],
   "source": [
    "#grade (write your code in this cell and DO NOT DELETE THIS LINE)\n",
    "\n",
    "# note: only the code in this cell and the code provided for you will be \n",
    "# passed to the autograder. If you define any additional variables\n",
    "# that are required to run this cell, make sure they are defined in this cell!\n",
    "\n",
    "kf = KFold(n_splits=nfold, shuffle=False)\n",
    "num_poly = [1,6,21,56,126,252]\n",
    "for isplit, (idx_tr, idx_val) in enumerate(kf.split(X_tr)):\n",
    "    \n",
    "    for degree in range(nd):\n",
    "\n",
    "        X_train_fold = X_tr[idx_tr, :num_poly[degree]]\n",
    "        X_val_fold = X_tr[idx_val, :num_poly[degree]]\n",
    "        \n",
    "        # Train the model\n",
    "        reg_dtest = LinearRegression().fit(X_train_fold, y_tr[idx_tr])\n",
    "\n",
    "        # Compute R^2 for training and validation data\n",
    "        r2_train[degree, isplit] = r2_score(y_tr[idx_tr], reg_dtest.predict(X_train_fold))\n",
    "        r2_val[degree, isplit] = r2_score(y_tr[idx_val], reg_dtest.predict(X_val_fold))"
   ]
  },
  {
   "cell_type": "markdown",
   "metadata": {
    "id": "1AIukYdII6gu"
   },
   "source": [
    "Then, create an array `r2_mean` with the mean R2 value for each degree, across K folds. "
   ]
  },
  {
   "cell_type": "code",
   "execution_count": 13,
   "metadata": {
    "id": "9PLIohdnI5nA"
   },
   "outputs": [],
   "source": [
    "#grade (write your code in this cell and DO NOT DELETE THIS LINE)\n",
    "r2_mean = np.mean(r2_val, axis=1)"
   ]
  },
  {
   "cell_type": "code",
   "execution_count": 14,
   "metadata": {},
   "outputs": [
    {
     "data": {
      "text/plain": [
       "array([-0.08015254,  0.12073071,  0.42391391,  0.3977008 , -6.88709641,\n",
       "       -6.92755144])"
      ]
     },
     "execution_count": 14,
     "metadata": {},
     "output_type": "execute_result"
    }
   ],
   "source": [
    "r2_mean"
   ]
  },
  {
   "cell_type": "markdown",
   "metadata": {
    "id": "X3L_uurF2NhO"
   },
   "source": [
    "Finally, select the model with the best validation R2. Save the model order in `d_opt`."
   ]
  },
  {
   "cell_type": "code",
   "execution_count": 15,
   "metadata": {
    "id": "SssTmaf1kwu4"
   },
   "outputs": [],
   "source": [
    "#grade (write your code in this cell and DO NOT DELETE THIS LINE)\n",
    "d_opt = np.argmax(r2_mean) "
   ]
  },
  {
   "cell_type": "code",
   "execution_count": 16,
   "metadata": {},
   "outputs": [
    {
     "data": {
      "text/plain": [
       "2"
      ]
     },
     "execution_count": 16,
     "metadata": {},
     "output_type": "execute_result"
    }
   ],
   "source": [
    "d_opt"
   ]
  },
  {
   "cell_type": "code",
   "execution_count": null,
   "metadata": {},
   "outputs": [],
   "source": []
  }
 ],
 "metadata": {
  "colab": {
   "collapsed_sections": [],
   "name": "Workbook.ipynb",
   "provenance": []
  },
  "kernelspec": {
   "display_name": "Python 3",
   "language": "python",
   "name": "python3"
  },
  "language_info": {
   "codemirror_mode": {
    "name": "ipython",
    "version": 3
   },
   "file_extension": ".py",
   "mimetype": "text/x-python",
   "name": "python",
   "nbconvert_exporter": "python",
   "pygments_lexer": "ipython3",
   "version": "3.8.6"
  }
 },
 "nbformat": 4,
 "nbformat_minor": 4
}

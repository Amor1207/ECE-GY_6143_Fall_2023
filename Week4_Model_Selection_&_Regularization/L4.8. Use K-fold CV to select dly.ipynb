{
 "cells": [
  {
   "cell_type": "markdown",
   "metadata": {},
   "source": [
    "## Task: Use K-fold CV to select `dly`"
   ]
  },
  {
   "cell_type": "code",
   "execution_count": 1,
   "metadata": {},
   "outputs": [],
   "source": [
    "import numpy as np\n",
    "import pickle\n",
    "from sklearn.linear_model import LinearRegression\n",
    "from sklearn.metrics import r2_score, mean_squared_error\n",
    "from sklearn.model_selection import train_test_split, KFold"
   ]
  },
  {
   "cell_type": "code",
   "execution_count": 2,
   "metadata": {},
   "outputs": [],
   "source": [
    "with open('example_data_s1.pickle', 'rb') as fp:\n",
    "    X,y = pickle.load(fp)\n",
    "\n",
    "tsamp = 0.05  \n",
    "nt, nneuron = X.shape\n",
    "nout = y.shape[1]\n",
    "ttotal = nt*tsamp"
   ]
  },
  {
   "cell_type": "code",
   "execution_count": 3,
   "metadata": {},
   "outputs": [],
   "source": [
    "nred = 6000\n",
    "\n",
    "Xred = X[:nred]\n",
    "yred = y[:nred]"
   ]
  },
  {
   "cell_type": "code",
   "execution_count": 4,
   "metadata": {},
   "outputs": [],
   "source": [
    "def create_dly_data(X,y,dly):\n",
    "    \"\"\"\n",
    "    Create delayed data\n",
    "    \"\"\"    \n",
    "    n,p = X.shape\n",
    "    Xdly = np.zeros((n-dly,(dly+1)*p))\n",
    "    for i in range(dly+1):\n",
    "        Xdly[:,i*p:(i+1)*p] = X[dly-i:n-i,:]\n",
    "    ydly = y[dly:]\n",
    "    \n",
    "    return Xdly, ydly"
   ]
  },
  {
   "cell_type": "code",
   "execution_count": 5,
   "metadata": {},
   "outputs": [],
   "source": [
    "dmax = 15\n",
    "\n",
    "Xdly, ydly = create_dly_data(Xred,yred,dmax)"
   ]
  },
  {
   "cell_type": "code",
   "execution_count": 6,
   "metadata": {},
   "outputs": [],
   "source": [
    "dtest_list = np.arange(0, dmax+1)\n",
    "nd = len(dtest_list)\n",
    "nfold = 10"
   ]
  },
  {
   "cell_type": "markdown",
   "metadata": {},
   "source": [
    "Use K-fold CV with `nfold=10` to find the optimal delay, for all the values of delay in `dtest_list`."
   ]
  },
  {
   "cell_type": "code",
   "execution_count": 7,
   "metadata": {},
   "outputs": [],
   "source": [
    "#grade (write your code in this cell and DO NOT DELETE THIS LINE)\n",
    "\n",
    "#  Create a k-fold object\n",
    "kf = KFold(n_splits=nfold, shuffle=False)\n",
    " \n",
    "# Initialize a matrix Rsq to hold values of the R^2 across the model orders and folds.\n",
    "Rsq = np.zeros((nd,nfold))\n",
    " \n",
    "# Loop over the folds\n",
    "for i, idx_split in enumerate(kf.split(Xdly)):\n",
    "    \n",
    "    # Get the training and validation data in the split\n",
    "    idx_tr, idx_val = idx_split\n",
    "    \n",
    "    for it, dtest in enumerate(dtest_list):\n",
    "        # Select the appropriate subset of columns of Xdly\n",
    "        X_dtest = Xdly[:, :X.shape[1]*(dtest+1)]\n",
    "        \n",
    "        # Split the data (X_dtest, ydly) into training and validation using idx_tr and idx_val\n",
    "        Xtr = X_dtest[idx_tr, :]\n",
    "        ytr = ydly[idx_tr]\n",
    "        Xval = X_dtest[idx_val, :]\n",
    "        yval = ydly[idx_val]\n",
    "        \n",
    "        # Fit linear regression on training data\n",
    "        reg = LinearRegression().fit(Xtr, ytr)\n",
    "        \n",
    "        # Measure the R2 on validation data and store in the matrix Rsq\n",
    "        yhat_val = reg.predict(Xval)\n",
    "        Rsq[it, i] = r2_score(yval, yhat_val)"
   ]
  },
  {
   "cell_type": "markdown",
   "metadata": {},
   "source": [
    "Write code to find the delay that has the best validation R2. Get the\n",
    "best delay according to the \"best R2\" rule, and save it in `d_opt`.\n"
   ]
  },
  {
   "cell_type": "code",
   "execution_count": 10,
   "metadata": {},
   "outputs": [
    {
     "data": {
      "text/plain": [
       "8"
      ]
     },
     "execution_count": 10,
     "metadata": {},
     "output_type": "execute_result"
    }
   ],
   "source": [
    "#grade (write your code in this cell and DO NOT DELETE THIS LINE)\n",
    "Rsq_mean = np.mean(Rsq, axis=1)\n",
    "d_opt_index = np.argmax(Rsq_mean)\n",
    "d_opt = dtest_list[d_opt_index]\n",
    "d_opt"
   ]
  },
  {
   "cell_type": "markdown",
   "metadata": {},
   "source": [
    "Now write code to find the best delay using the one SE rule (i.e. find\n",
    "the simplest model whose validation R2 is within one SE of the model\n",
    "with the best R2). Get the best delay according to the \"one SE\n",
    "rule\", and save it in `d_one_se`.\n"
   ]
  },
  {
   "cell_type": "code",
   "execution_count": 11,
   "metadata": {},
   "outputs": [
    {
     "data": {
      "text/plain": [
       "6"
      ]
     },
     "execution_count": 11,
     "metadata": {},
     "output_type": "execute_result"
    }
   ],
   "source": [
    "#grade (write your code in this cell and DO NOT DELETE THIS LINE)\n",
    "# Calculate the standard error of the R^2 values\n",
    "Rsq_se = np.std(Rsq, axis=1) / np.sqrt(nfold)\n",
    "\n",
    "# Determine the threshold\n",
    "threshold = Rsq_mean[d_opt_index] - Rsq_se[d_opt_index]\n",
    "\n",
    "# Find the simplest model that is within one SE of the best model\n",
    "d_one_se_index = np.where(Rsq_mean >= threshold)[0][0]\n",
    "d_one_se = dtest_list[d_one_se_index]\n",
    "d_one_se"
   ]
  },
  {
   "cell_type": "code",
   "execution_count": null,
   "metadata": {},
   "outputs": [],
   "source": []
  }
 ],
 "metadata": {
  "kernelspec": {
   "display_name": "Python 3",
   "language": "python",
   "name": "python3"
  },
  "language_info": {
   "codemirror_mode": {
    "name": "ipython",
    "version": 3
   },
   "file_extension": ".py",
   "mimetype": "text/x-python",
   "name": "python",
   "nbconvert_exporter": "python",
   "pygments_lexer": "ipython3",
   "version": "3.8.6"
  },
  "vscode": {
   "interpreter": {
    "hash": "e7370f93d1d0cde622a1f8e1c04877d8463912d04d973331ad4851f04de6915a"
   }
  }
 },
 "nbformat": 4,
 "nbformat_minor": 4
}

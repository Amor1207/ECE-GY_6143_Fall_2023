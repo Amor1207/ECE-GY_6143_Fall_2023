{
 "cells": [
  {
   "cell_type": "markdown",
   "metadata": {},
   "source": [
    "# Multi-level regression using K means clustering"
   ]
  },
  {
   "cell_type": "code",
   "execution_count": 1,
   "metadata": {},
   "outputs": [],
   "source": [
    "import random\n",
    "import numpy as np\n",
    "import pandas as pd\n",
    "\n",
    "from sklearn.linear_model import LinearRegression\n",
    "from sklearn.cluster import KMeans\n",
    "from sklearn.metrics import mean_squared_error, r2_score\n",
    "from sklearn.model_selection import train_test_split"
   ]
  },
  {
   "cell_type": "markdown",
   "metadata": {},
   "source": [
    "Read in the dataset:"
   ]
  },
  {
   "cell_type": "code",
   "execution_count": 12,
   "metadata": {},
   "outputs": [],
   "source": [
    "df = pd.read_csv('data-volunteer.csv')"
   ]
  },
  {
   "cell_type": "markdown",
   "metadata": {},
   "source": [
    "The data has the following features, some of which you will use for clustering and some of which you will use for the regression model:\n",
    "\n",
    "* `GEDIV` (geographical region of the US where the respondent lives, ordinal-encoded. You will use this for clustering only.)\n",
    "* `GTMETSTA` (whether or not the respondent lives in a metropolitan area. You will use this for clustering only.)\n",
    "* `GTCBSASZ` (size of the metro area where the respondent lives. You will use this for clustering only.)\n",
    "* `PESEX` (sex of the respondent. You will use this for the regression only.)\n",
    "* `PRTAGE` (age of the respondent, ordinal encoded. You will use this for the regression only.)\n",
    "* `PEEDUCA` (education level of the respondent, ordinal encoded. You will use this for the regression only.)\n",
    "* `PUWK` (whether the respondent worked in the last week (1), did not work in the last week (2), or is retired (3). You will use this for the regression only.)\n",
    "* `PTS16E` (number of hours spent volunteering in the last 12 months. You will use this as the target variable for the regression.)"
   ]
  },
  {
   "cell_type": "markdown",
   "metadata": {},
   "source": [
    "Split the data into training and test sets. Use 2,500 samples for the test set and the remaining samples for the training set. Use `random_state = 42`.\n",
    "\n",
    " * `ytr` and `yts` should each be a 1d `numpy` array with only the target variable.\n",
    " * `Xtr` and `Xts` should be `pandas` data frames with all of the remaining variables (excluding the target variable.)\n",
    "\n"
   ]
  },
  {
   "cell_type": "code",
   "execution_count": 13,
   "metadata": {},
   "outputs": [],
   "source": [
    "#grade (write your code in this cell and DO NOT DELETE THIS LINE)\n",
    "\n",
    "# 目标变量\n",
    "y = np.array(df['PTS16E'])\n",
    "\n",
    "# 聚类特征\n",
    "clustering_features = df[['GEDIV', 'GTMETSTA', 'GTCBSASZ']]\n",
    "\n",
    "# 回归特征\n",
    "regression_features = df[['PESEX', 'PRTAGE', 'PEEDUCA', 'PUWK']]\n",
    "\n",
    "# 合并聚类和回归特征\n",
    "X = pd.concat([clustering_features, regression_features], axis=1)\n",
    "\n",
    "# 数据分割\n",
    "Xtr, Xts, ytr, yts = train_test_split(X, y, test_size=2500, random_state=42)"
   ]
  },
  {
   "cell_type": "markdown",
   "metadata": {},
   "source": [
    "In the next cells, you will use `sklearn` to perform K-means clustering using  `Xtr`. First, set `n_cluster` as specified on the question page."
   ]
  },
  {
   "cell_type": "code",
   "execution_count": 14,
   "metadata": {},
   "outputs": [],
   "source": [
    "n_cluster  = 4"
   ]
  },
  {
   "cell_type": "markdown",
   "metadata": {},
   "source": [
    "Then, assign cluster labels to each data point, using only the geographical features that were specified as \"You will use this for clustering only\". \n",
    "\n",
    "(Use the specific random state shown below so that your clustering will match the auto-grader's.) Save the assigned class labels in `Xtr_cid` and `Xts_cid` for the training and test data, respectively."
   ]
  },
  {
   "cell_type": "code",
   "execution_count": 15,
   "metadata": {},
   "outputs": [],
   "source": [
    "#grade (write your code in this cell and DO NOT DELETE THIS LINE)\n",
    "\n",
    "kmeans = KMeans(n_cluster, random_state=42)\n",
    "\n",
    "# 使用训练数据的地理特征进行聚类\n",
    "kmeans.fit(Xtr[['GEDIV', 'GTMETSTA', 'GTCBSASZ']])\n",
    "\n",
    "# 为训练数据和测试数据分配聚类标签\n",
    "Xtr_cid = kmeans.predict(Xtr[['GEDIV', 'GTMETSTA', 'GTCBSASZ']])\n",
    "Xts_cid = kmeans.predict(Xts[['GEDIV', 'GTMETSTA', 'GTCBSASZ']])\n"
   ]
  },
  {
   "cell_type": "markdown",
   "metadata": {},
   "source": [
    "Finally, fit regression coefficients using the training data in each cluster, and then use the fitted regression models to create `yhat_ts`, the predicted values on the test set."
   ]
  },
  {
   "cell_type": "code",
   "execution_count": 16,
   "metadata": {},
   "outputs": [],
   "source": [
    "#grade (write your code in this cell and DO NOT DELETE THIS LINE)\n",
    "\n",
    "# this just generates an array that's the correct shape - yhat_ts shouldn't really be all zeros\n",
    "yhat_ts = np.zeros(yts.shape)\n",
    "\n",
    "# 对每个聚类训练一个线性回归模型，并进行预测\n",
    "for i in range(n_cluster):\n",
    "    # 选择属于当前聚类的训练数据\n",
    "    Xtr_cluster = Xtr[Xtr_cid == i][['PESEX', 'PRTAGE', 'PEEDUCA', 'PUWK']]\n",
    "    ytr_cluster = ytr[Xtr_cid == i]\n",
    "\n",
    "    # 训练线性回归模型\n",
    "    model = LinearRegression()\n",
    "    model.fit(Xtr_cluster, ytr_cluster)\n",
    "\n",
    "    # 选择属于当前聚类的测试数据\n",
    "    Xts_cluster = Xts[Xts_cid == i][['PESEX', 'PRTAGE', 'PEEDUCA', 'PUWK']]\n",
    "\n",
    "    # 对测试数据进行预测，并更新 yhat_ts\n",
    "    yhat_ts[Xts_cid == i] = model.predict(Xts_cluster)\n"
   ]
  },
  {
   "cell_type": "markdown",
   "metadata": {},
   "source": [
    "Then, compute the mean squared error of your model on the test data."
   ]
  },
  {
   "cell_type": "code",
   "execution_count": 17,
   "metadata": {},
   "outputs": [],
   "source": [
    "#grade (write your code in this cell and DO NOT DELETE THIS LINE)\n",
    "\n",
    "mse_ts = mean_squared_error(yts, yhat_ts)"
   ]
  },
  {
   "cell_type": "code",
   "execution_count": 18,
   "metadata": {},
   "outputs": [
    {
     "data": {
      "text/plain": [
       "13895.812411048222"
      ]
     },
     "execution_count": 18,
     "metadata": {},
     "output_type": "execute_result"
    }
   ],
   "source": [
    "mse_ts"
   ]
  },
  {
   "cell_type": "code",
   "execution_count": null,
   "metadata": {},
   "outputs": [],
   "source": []
  },
  {
   "cell_type": "code",
   "execution_count": null,
   "metadata": {},
   "outputs": [],
   "source": []
  },
  {
   "cell_type": "code",
   "execution_count": null,
   "metadata": {},
   "outputs": [],
   "source": []
  }
 ],
 "metadata": {
  "kernelspec": {
   "display_name": "Python 3",
   "language": "python",
   "name": "python3"
  },
  "language_info": {
   "codemirror_mode": {
    "name": "ipython",
    "version": 3
   },
   "file_extension": ".py",
   "mimetype": "text/x-python",
   "name": "python",
   "nbconvert_exporter": "python",
   "pygments_lexer": "ipython3",
   "version": "3.8.6"
  }
 },
 "nbformat": 4,
 "nbformat_minor": 4
}

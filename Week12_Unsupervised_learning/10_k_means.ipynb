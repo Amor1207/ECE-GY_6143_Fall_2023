{
  "nbformat": 4,
  "nbformat_minor": 0,
  "metadata": {
    "anaconda-cloud": {},
    "kernelspec": {
      "display_name": "Python 3",
      "language": "python",
      "name": "python3"
    },
    "language_info": {
      "codemirror_mode": {
        "name": "ipython",
        "version": 3
      },
      "file_extension": ".py",
      "mimetype": "text/x-python",
      "name": "python",
      "nbconvert_exporter": "python",
      "pygments_lexer": "ipython3",
      "version": "3.5.1"
    },
    "colab": {
      "provenance": [],
      "collapsed_sections": [
        "PANxHVBD8Mrx",
        "BPK7l8lh8Mry",
        "nqJhs5jM8Mr0",
        "cJKjTtS38Mr2"
      ]
    }
  },
  "cells": [
    {
      "cell_type": "markdown",
      "metadata": {
        "id": "KtKdsZd78Mrh"
      },
      "source": [
        "<!--BOOK_INFORMATION-->\n",
        "<img align=\"left\" style=\"padding-right:10px;\" src=\"https://github.com/jakevdp/PythonDataScienceHandbook/blob/master/notebooks/figures/PDSH-cover-small.png?raw=1\">\n",
        "\n",
        "*This notebook contains an excerpt from the [Python Data Science Handbook](http://shop.oreilly.com/product/0636920034919.do) by Jake VanderPlas; the content is available [on GitHub](https://github.com/jakevdp/PythonDataScienceHandbook).*\n",
        "\n",
        "*The text is released under the [CC-BY-NC-ND license](https://creativecommons.org/licenses/by-nc-nd/3.0/us/legalcode), and code is released under the [MIT license](https://opensource.org/licenses/MIT)."
      ]
    },
    {
      "cell_type": "markdown",
      "metadata": {
        "id": "FhfyGEgD8Mrm"
      },
      "source": [
        "# In Depth: k-Means Clustering"
      ]
    },
    {
      "cell_type": "markdown",
      "metadata": {
        "id": "FlI-SJk88Mrn"
      },
      "source": [
        "\n",
        "Clustering algorithms seek to learn, from the properties of the data, an optimal division or discrete labeling of groups of points.\n",
        "\n",
        "Many clustering algorithms are available in Scikit-Learn and elsewhere, but perhaps the simplest to understand is an algorithm known as *k-means clustering*, which is implemented in ``sklearn.cluster.KMeans``.\n",
        "\n",
        "We begin with the standard imports:"
      ]
    },
    {
      "cell_type": "code",
      "metadata": {
        "id": "NZm6NOhC8Mrn"
      },
      "source": [
        "import matplotlib.pyplot as plt\n",
        "import seaborn as sns; sns.set()  # for plot styling\n",
        "import numpy as np"
      ],
      "execution_count": null,
      "outputs": []
    },
    {
      "cell_type": "markdown",
      "metadata": {
        "id": "txTgDbH08Mro"
      },
      "source": [
        "## Introducing k-Means"
      ]
    },
    {
      "cell_type": "markdown",
      "metadata": {
        "id": "LtjOIfpe8Mrp"
      },
      "source": [
        "The *k*-means algorithm searches for a pre-determined number of clusters within an unlabeled multidimensional dataset.\n",
        "It accomplishes this using a simple conception of what the optimal clustering looks like:\n",
        "\n",
        "- The \"cluster center\" is the arithmetic mean of all the points belonging to the cluster.\n",
        "- Each point is closer to its own cluster center than to other cluster centers.\n",
        "\n",
        "Those two assumptions are the basis of the *k*-means model.\n",
        "We will soon dive into exactly *how* the algorithm reaches this solution, but for now let's take a look at a simple dataset and see the *k*-means result.\n",
        "\n",
        "First, let's generate a two-dimensional dataset containing four distinct blobs.\n",
        "To emphasize that this is an unsupervised algorithm, we will leave the labels out of the visualization"
      ]
    },
    {
      "cell_type": "code",
      "metadata": {
        "id": "gUnjTYdf8Mrq"
      },
      "source": [
        "from sklearn.datasets import make_blobs\n",
        "\n",
        "X, y_true = make_blobs(n_samples=300, centers=4,\n",
        "                       cluster_std=0.60, random_state=0)\n",
        "plt.scatter(x=X[:, 0], y=X[:, 1], s=50);"
      ],
      "execution_count": null,
      "outputs": []
    },
    {
      "cell_type": "markdown",
      "metadata": {
        "id": "70bwMWgw8Mrr"
      },
      "source": [
        "By eye, it is relatively easy to pick out the four clusters.\n",
        "The *k*-means algorithm does this automatically, and in Scikit-Learn uses the typical estimator API:"
      ]
    },
    {
      "cell_type": "code",
      "metadata": {
        "collapsed": true,
        "id": "LO84Iqy08Mrs"
      },
      "source": [
        "from sklearn.cluster import KMeans\n",
        "kmeans = KMeans(n_clusters=4)\n",
        "kmeans.fit(X)\n",
        "y_kmeans = kmeans.predict(X)"
      ],
      "execution_count": null,
      "outputs": []
    },
    {
      "cell_type": "markdown",
      "metadata": {
        "id": "NwpyAOjO8Mrs"
      },
      "source": [
        "Let's visualize the results by plotting the data colored by these labels.\n",
        "We will also plot the cluster centers as determined by the *k*-means estimator:"
      ]
    },
    {
      "cell_type": "code",
      "metadata": {
        "id": "z4vQ1jv38Mrs"
      },
      "source": [
        "plt.scatter(x=X[:, 0], y=X[:, 1], c=y_kmeans, s=50, cmap='viridis')\n",
        "\n",
        "centers = kmeans.cluster_centers_\n",
        "plt.scatter(x=centers[:, 0], y=centers[:, 1], c='black', s=200, alpha=0.5);"
      ],
      "execution_count": null,
      "outputs": []
    },
    {
      "cell_type": "markdown",
      "metadata": {
        "id": "u8QMBIBR8Mrt"
      },
      "source": [
        "The good news is that the *k*-means algorithm (at least in this simple case) assigns the points to clusters very similarly to how we might assign them by eye.\n",
        "But you might wonder how this algorithm finds these clusters so quickly! After all, the number of possible combinations of cluster assignments is exponential in the number of data points—an exhaustive search would be very, very costly.\n",
        "Fortunately for us, such an exhaustive search is not necessary: instead, the typical approach to *k*-means involves an intuitive iterative approach known as *expectation–maximization*."
      ]
    },
    {
      "cell_type": "markdown",
      "metadata": {
        "id": "TuPqj36j8Mrt"
      },
      "source": [
        "## k-Means Algorithm: Expectation–Maximization"
      ]
    },
    {
      "cell_type": "markdown",
      "metadata": {
        "id": "yIk-YPG38Mru"
      },
      "source": [
        "Expectation–maximization (E–M) is a powerful algorithm that comes up in a variety of contexts within data science.\n",
        "*k*-means is a particularly simple and easy-to-understand application of the algorithm, and we will walk through it briefly here.\n",
        "In short, the expectation–maximization approach here consists of the following procedure:\n",
        "\n",
        "1. Guess some cluster centers\n",
        "2. Repeat until converged\n",
        "   1. *E-Step*: assign points to the nearest cluster center\n",
        "   2. *M-Step*: set the cluster centers to the mean\n",
        "\n",
        "Here the \"E-step\" or \"Expectation step\" is so-named because it involves updating our expectation of which cluster each point belongs to.\n",
        "The \"M-step\" or \"Maximization step\" is so-named because it involves maximizing some fitness function that defines the location of the cluster centers—in this case, that maximization is accomplished by taking a simple mean of the data in each cluster.\n",
        "\n",
        "The literature about this algorithm is vast, but can be summarized as follows: under typical circumstances, each repetition of the E-step and M-step will always result in a better estimate of the cluster characteristics.\n",
        "\n",
        "We can visualize the algorithm as shown in the following figure.\n",
        "For the particular initialization shown here, the clusters converge in just three iterations.\n"
      ]
    },
    {
      "cell_type": "markdown",
      "metadata": {
        "id": "kiluz6zf8Mru"
      },
      "source": [
        "![(run code in Appendix to generate image)](https://github.com/jakevdp/PythonDataScienceHandbook/blob/master/notebooks/figures/05.11-expectation-maximization.png?raw=1)\n"
      ]
    },
    {
      "cell_type": "markdown",
      "metadata": {
        "id": "VvEpHlCi8Mrv"
      },
      "source": [
        "The *k*-Means algorithm is simple enough that we can write it in a few lines of code.\n",
        "The following is a very basic implementation:"
      ]
    },
    {
      "cell_type": "code",
      "metadata": {
        "id": "cFRbs24m8Mrv"
      },
      "source": [
        "from sklearn.metrics import pairwise_distances_argmin\n",
        "\n",
        "def find_clusters(X, n_clusters, rseed=2):\n",
        "    # 1. Randomly choose clusters\n",
        "    rng = np.random.RandomState(rseed)\n",
        "    i = rng.permutation(X.shape[0])[:n_clusters]\n",
        "    centers = X[i]\n",
        "\n",
        "    while True:\n",
        "        # 2a. Assign labels based on closest center\n",
        "        labels = pairwise_distances_argmin(X, centers)\n",
        "\n",
        "        # 2b. Find new centers from means of points\n",
        "        new_centers = np.array([X[labels == i].mean(0)\n",
        "                                for i in range(n_clusters)])\n",
        "\n",
        "        # 2c. Check for convergence\n",
        "        if np.all(centers == new_centers):\n",
        "            break\n",
        "        centers = new_centers\n",
        "\n",
        "    return centers, labels\n",
        "\n",
        "centers, labels = find_clusters(X, 4)\n",
        "plt.scatter(x=X[:, 0], y=X[:, 1], c=labels,\n",
        "            s=50, cmap='viridis');"
      ],
      "execution_count": null,
      "outputs": []
    },
    {
      "cell_type": "markdown",
      "metadata": {
        "id": "jeJFrXDa8Mrv"
      },
      "source": [
        "Most well-tested implementations will do a bit more than this under the hood, but the preceding function gives the gist of the expectation–maximization approach."
      ]
    },
    {
      "cell_type": "markdown",
      "metadata": {
        "id": "xnpheozU8Mrw"
      },
      "source": [
        "### Caveats of expectation–maximization\n",
        "\n",
        "There are a few issues to be aware of when using the expectation–maximization algorithm."
      ]
    },
    {
      "cell_type": "markdown",
      "metadata": {
        "id": "PANxHVBD8Mrx"
      },
      "source": [
        "#### The globally optimal result may not be achieved\n",
        "First, although the E–M procedure is guaranteed to improve the result in each step, there is no assurance that it will lead to the *global* best solution.\n",
        "For example, if we use a different random seed in our simple procedure, the particular starting guesses lead to poor results:"
      ]
    },
    {
      "cell_type": "code",
      "metadata": {
        "id": "XkG7-iGO8Mrx"
      },
      "source": [
        "centers, labels = find_clusters(X, 4, rseed=0)\n",
        "plt.scatter(x=X[:, 0], y=X[:, 1], c=labels,\n",
        "            s=50, cmap='viridis');"
      ],
      "execution_count": null,
      "outputs": []
    },
    {
      "cell_type": "markdown",
      "metadata": {
        "id": "X2Fg6WVs8Mry"
      },
      "source": [
        "Here the E–M approach has converged, but has not converged to a globally optimal configuration. For this reason, it is common for the algorithm to be run for multiple starting guesses, as indeed Scikit-Learn does by default (set by the ``n_init`` parameter, which defaults to 10)."
      ]
    },
    {
      "cell_type": "markdown",
      "metadata": {
        "id": "BPK7l8lh8Mry"
      },
      "source": [
        "#### The number of clusters must be selected beforehand\n",
        "Another common challenge with *k*-means is that you must tell it how many clusters you expect: it cannot learn the number of clusters from the data.\n",
        "For example, if we ask the algorithm to identify six clusters, it will happily proceed and find the best six clusters:"
      ]
    },
    {
      "cell_type": "code",
      "metadata": {
        "id": "8Xutk2Ha8Mrz"
      },
      "source": [
        "labels = KMeans(6, random_state=0).fit_predict(X)\n",
        "plt.scatter(x=X[:, 0], y=X[:, 1], c=labels,\n",
        "            s=50, cmap='viridis');"
      ],
      "execution_count": null,
      "outputs": []
    },
    {
      "cell_type": "markdown",
      "metadata": {
        "id": "w_FkLBPr8Mr0"
      },
      "source": [
        "Whether the result is meaningful is a question that is difficult to answer definitively; one approach that is rather intuitive, but that we won't discuss further here, is called [silhouette analysis](http://scikit-learn.org/stable/auto_examples/cluster/plot_kmeans_silhouette_analysis.html).\n",
        "\n",
        "Alternatively, you might use a more complicated clustering algorithm which has a better quantitative measure of the fitness per number of clusters (e.g., Gaussian mixture models) or which *can* choose a suitable number of clusters (e.g., DBSCAN, mean-shift, or affinity propagation, all available in the ``sklearn.cluster`` submodule)"
      ]
    },
    {
      "cell_type": "markdown",
      "metadata": {
        "id": "nqJhs5jM8Mr0"
      },
      "source": [
        "#### k-means is limited to linear cluster boundaries\n",
        "The fundamental model assumptions of *k*-means (points will be closer to their own cluster center than to others) means that the algorithm will often be ineffective if the clusters have complicated geometries.\n",
        "\n",
        "In particular, the boundaries between *k*-means clusters will always be linear, which means that it will fail for more complicated boundaries.\n",
        "Consider the following data, along with the cluster labels found by the typical *k*-means approach:"
      ]
    },
    {
      "cell_type": "code",
      "metadata": {
        "collapsed": true,
        "id": "31e_A02W8Mr0"
      },
      "source": [
        "from sklearn.datasets import make_moons\n",
        "X, y = make_moons(200, noise=.05, random_state=0)"
      ],
      "execution_count": null,
      "outputs": []
    },
    {
      "cell_type": "code",
      "metadata": {
        "id": "1ZY5uyNg8Mr1"
      },
      "source": [
        "labels = KMeans(2, random_state=0).fit_predict(X)\n",
        "plt.scatter(x=X[:, 0], y=X[:, 1], c=labels,\n",
        "            s=50, cmap='viridis');"
      ],
      "execution_count": null,
      "outputs": []
    },
    {
      "cell_type": "markdown",
      "metadata": {
        "id": "mHbOMeXc8Mr1"
      },
      "source": [
        "This situation is reminiscent of previous machine learning models where we used a linear basis function or a kernel to project the data into a higher dimension where a linear separation is possible.\n",
        "\n",
        "We might imagine using the same trick to allow *k*-means to discover non-linear boundaries.\n",
        "\n",
        "One version of this \"transformed\" *k*-means is implemented in Scikit-Learn within the ``SpectralClustering`` estimator.\n",
        "It computes a higher-dimensional representation of the data, and then assigns labels using a *k*-means algorithm:"
      ]
    },
    {
      "cell_type": "code",
      "metadata": {
        "id": "SsyiuaLM8Mr2"
      },
      "source": [
        "from sklearn.cluster import SpectralClustering\n",
        "model = SpectralClustering(n_clusters=2, affinity='nearest_neighbors',\n",
        "                           assign_labels='kmeans')\n",
        "labels = model.fit_predict(X)\n",
        "plt.scatter(x=X[:, 0], y=X[:, 1], c=labels,\n",
        "            s=50, cmap='viridis');"
      ],
      "execution_count": null,
      "outputs": []
    },
    {
      "cell_type": "markdown",
      "metadata": {
        "id": "6-WO9cVu8Mr2"
      },
      "source": [
        "We see that with this kernel transform approach, the kernelized *k*-means is able to find the more complicated nonlinear boundaries between clusters."
      ]
    },
    {
      "cell_type": "markdown",
      "metadata": {
        "id": "cJKjTtS38Mr2"
      },
      "source": [
        "#### k-means can be slow for large numbers of samples\n",
        "Because each iteration of *k*-means must access every point in the dataset, the algorithm can be relatively slow as the number of samples grows.\n",
        "You might wonder if this requirement to use all data at each iteration can be relaxed; for example, you might just use a subset of the data to update the cluster centers at each step.\n",
        "This is the idea behind batch-based *k*-means algorithms, one form of which is implemented in ``sklearn.cluster.MiniBatchKMeans``.\n",
        "The interface for this is the same as for standard ``KMeans``; we will see an example of its use as we continue our discussion."
      ]
    },
    {
      "cell_type": "markdown",
      "metadata": {
        "id": "KW5yfPk-CJ6C"
      },
      "source": [
        "## Interactive K-means"
      ]
    },
    {
      "cell_type": "markdown",
      "metadata": {
        "id": "ZUJJgiHw-auk"
      },
      "source": [
        "Here is an interactive view of the process - you can step through one frame at a time, and see how the algorithm works for different numbers of clusters."
      ]
    },
    {
      "cell_type": "code",
      "metadata": {
        "id": "kFHzbb8O9ReH",
        "cellView": "form"
      },
      "source": [
        "#@title K-means interactive\n",
        "\n",
        "\n",
        "import warnings\n",
        "from ipywidgets import interact, widgets\n",
        "from sklearn.metrics import pairwise_distances_argmin\n",
        "from sklearn.datasets import make_blobs\n",
        "\n",
        "\n",
        "def plot_kmeans_interactive(min_clusters=1, max_clusters=6):\n",
        "    X, y = make_blobs(n_samples=300, centers=4,\n",
        "                      random_state=0, cluster_std=0.60)\n",
        "\n",
        "    def plot_points(X, labels, n_clusters):\n",
        "        plt.scatter(X[:, 0], X[:, 1], c=labels, s=50, cmap='viridis',\n",
        "                    vmin=0, vmax=n_clusters - 1);\n",
        "\n",
        "    def plot_centers(centers):\n",
        "        plt.scatter(centers[:, 0], centers[:, 1], marker='o',\n",
        "                    c=np.arange(centers.shape[0]),\n",
        "                    s=200, cmap='viridis')\n",
        "        plt.scatter(centers[:, 0], centers[:, 1], marker='o',\n",
        "                    c='black', s=50)\n",
        "\n",
        "\n",
        "    def _kmeans_step(frame=0, n_clusters=4, initSeed=2):\n",
        "      with warnings.catch_warnings():\n",
        "        warnings.simplefilter(\"ignore\")\n",
        "\n",
        "        rng = np.random.RandomState(initSeed)\n",
        "        labels = np.zeros(X.shape[0])\n",
        "        centers = rng.randn(n_clusters, 2)\n",
        "\n",
        "        nsteps = frame // 3\n",
        "\n",
        "\n",
        "        plt.figure(figsize=(10,6))\n",
        "\n",
        "        for i in range(nsteps + 1):\n",
        "            old_centers = centers\n",
        "            if i < nsteps or frame % 3 > 0:\n",
        "                labels = pairwise_distances_argmin(X, centers)\n",
        "\n",
        "            if i < nsteps or frame % 3 > 1:\n",
        "                centers = np.array([X[labels == j].mean(0)\n",
        "                                    for j in range(n_clusters)])\n",
        "                nans = np.isnan(centers)\n",
        "                centers[nans] = old_centers[nans]\n",
        "\n",
        "        # plot the data and cluster centers\n",
        "        plot_points(X, labels, n_clusters)\n",
        "        plot_centers(old_centers)\n",
        "\n",
        "        # plot new centers if third frame\n",
        "        if frame % 3 == 2:\n",
        "            for i in range(n_clusters):\n",
        "                plt.annotate('', centers[i], old_centers[i],\n",
        "                             arrowprops=dict(color='black', arrowstyle='->', linewidth=2))\n",
        "            plot_centers(centers)\n",
        "\n",
        "        plt.xlim(-4, 4)\n",
        "        plt.ylim(-2, 10)\n",
        "\n",
        "        if frame % 3 == 1:\n",
        "            plt.text(3.8, 9.5, \"1. Reassign points to nearest centroid\",\n",
        "                     ha='right', va='top', size=14)\n",
        "        elif frame % 3 == 2:\n",
        "            plt.text(3.8, 9.5, \"2. Update centroids to cluster means\",\n",
        "                     ha='right', va='top', size=14)\n",
        "\n",
        "    return interact(_kmeans_step,\n",
        "                    frame=widgets.IntSlider(value=0, min=0, max=50,step=1,description='Frame:',\n",
        "                    continuous_update=True, orientation='horizontal', readout=True,\n",
        "                    readout_format='d'),\n",
        "                    n_clusters=widgets.IntSlider(value=1, min=min_clusters, max=max_clusters,\n",
        "                    step=1,description='Clusters:',\n",
        "                    continuous_update=True, orientation='horizontal', readout=True,\n",
        "                    readout_format='d'),\n",
        "                    initSeed=widgets.IntSlider(value=2, min=0, max=10,step=1,description='Initialization seed:',\n",
        "                    continuous_update=True, orientation='horizontal', readout=True,\n",
        "                    readout_format='d'))\n",
        "\n",
        "plot_kmeans_interactive();"
      ],
      "execution_count": null,
      "outputs": []
    },
    {
      "cell_type": "markdown",
      "metadata": {
        "id": "ny-Hh_2C8Mr2"
      },
      "source": [
        "## Examples\n",
        "\n",
        "Being careful about these limitations of the algorithm, we can use *k*-means to our advantage in a wide variety of situations.\n",
        "We'll now take a look at a couple examples."
      ]
    },
    {
      "cell_type": "markdown",
      "metadata": {
        "id": "tYsEgiWL8Mr3"
      },
      "source": [
        "### Example 1: k-means on digits\n",
        "\n",
        "To start, let's take a look at applying *k*-means on MNIST.\n",
        "Here we will attempt to use *k*-means to try to identify similar digits *without using the original label information*; this might be similar to a first step in extracting meaning from a new dataset about which you don't have any *a priori* label information.\n",
        "\n",
        "We will start by loading the digits and then finding the ``KMeans`` clusters.\n",
        "We are working with a \"small\" version of MNIST, including 1,797 samples with 64 features, where each of the 64 features is the brightness of one pixel in an 8×8 image:"
      ]
    },
    {
      "cell_type": "code",
      "metadata": {
        "id": "slU71HPf8Mr3"
      },
      "source": [
        "from sklearn.datasets import load_digits\n",
        "digits = load_digits()\n",
        "digits.data.shape"
      ],
      "execution_count": null,
      "outputs": []
    },
    {
      "cell_type": "markdown",
      "metadata": {
        "id": "ocSUc_jS8Mr4"
      },
      "source": [
        "The clustering can be performed as we did before:"
      ]
    },
    {
      "cell_type": "code",
      "metadata": {
        "id": "bK2hDlgB8Mr4"
      },
      "source": [
        "kmeans = KMeans(n_clusters=10, random_state=0)\n",
        "clusters = kmeans.fit_predict(digits.data)\n",
        "kmeans.cluster_centers_.shape"
      ],
      "execution_count": null,
      "outputs": []
    },
    {
      "cell_type": "markdown",
      "metadata": {
        "id": "HPsPrwEt8Mr5"
      },
      "source": [
        "The result is 10 clusters in 64 dimensions.\n",
        "Notice that the cluster centers themselves are 64-dimensional points, and can themselves be interpreted as the \"typical\" digit within the cluster.\n",
        "Let's see what these cluster centers look like:"
      ]
    },
    {
      "cell_type": "code",
      "metadata": {
        "id": "o5gUHFCG8Mr5"
      },
      "source": [
        "fig, ax = plt.subplots(2, 5, figsize=(8, 3))\n",
        "centers = kmeans.cluster_centers_.reshape(10, 8, 8)\n",
        "for axi, center in zip(ax.flat, centers):\n",
        "    axi.set(xticks=[], yticks=[])\n",
        "    axi.imshow(center, interpolation='nearest', cmap=plt.cm.binary)"
      ],
      "execution_count": null,
      "outputs": []
    },
    {
      "cell_type": "markdown",
      "metadata": {
        "id": "SdG5k8fu8Mr6"
      },
      "source": [
        "We see that *even without the labels*, ``KMeans`` is able to find clusters whose centers are recognizable digits, with perhaps the exception of 1 and 8.\n",
        "\n",
        "Because *k*-means knows nothing about the identity of the cluster, the 0–9 labels may be permuted.\n",
        "We can fix this by matching each learned cluster label with the true labels found in them:"
      ]
    },
    {
      "cell_type": "code",
      "metadata": {
        "id": "PBdHz9Y18Mr6"
      },
      "source": [
        "from scipy.stats import mode\n",
        "\n",
        "labels = np.zeros_like(clusters)\n",
        "for i in range(10):\n",
        "    mask = (clusters == i)\n",
        "    labels[mask] = mode(digits.target[mask])[0]"
      ],
      "execution_count": null,
      "outputs": []
    },
    {
      "cell_type": "markdown",
      "metadata": {
        "id": "TaV7Rp8C8Mr6"
      },
      "source": [
        "Now we can check how accurate our unsupervised clustering was in finding similar digits within the data:"
      ]
    },
    {
      "cell_type": "code",
      "metadata": {
        "id": "I83Otaxm8Mr7"
      },
      "source": [
        "from sklearn.metrics import accuracy_score\n",
        "accuracy_score(digits.target, labels)"
      ],
      "execution_count": null,
      "outputs": []
    },
    {
      "cell_type": "markdown",
      "metadata": {
        "id": "Fk2kDDrt8Mr7"
      },
      "source": [
        "With just a simple *k*-means algorithm, we discovered the correct grouping for 80% of the input digits!\n",
        "Let's check the confusion matrix for this:"
      ]
    },
    {
      "cell_type": "code",
      "metadata": {
        "id": "lMOCGyRr8Mr7"
      },
      "source": [
        "from sklearn.metrics import confusion_matrix\n",
        "\n",
        "plt.figure(figsize=(8,8))\n",
        "mat = confusion_matrix(digits.target, labels)\n",
        "sns.heatmap(mat.T, square=True, annot=True, fmt='d', cbar=False,\n",
        "            xticklabels=digits.target_names,\n",
        "            yticklabels=digits.target_names)\n",
        "plt.xlabel('true label')\n",
        "plt.ylabel('predicted label');"
      ],
      "execution_count": null,
      "outputs": []
    },
    {
      "cell_type": "markdown",
      "metadata": {
        "id": "I8VYGQIC8Mr8"
      },
      "source": [
        "As we might expect from the cluster centers we visualized before, the main point of confusion is between the eights and ones.\n",
        "But this still shows that using *k*-means, we can essentially build a digit classifier *without reference to any known labels*!\n",
        "\n",
        "Just for fun, let's try to push this even farther.\n",
        "We can use the t-distributed stochastic neighbor embedding (t-SNE) algorithm, another unsupervised learning method, to pre-process the data before performing *k*-means.\n",
        "\n",
        "Like PCA, t-SNE will create more useful \"features\" from the data. Here's the visualization of the digits dataset using t-SNE features:"
      ]
    },
    {
      "cell_type": "markdown",
      "metadata": {
        "id": "MLaYxSJyG-Y9"
      },
      "source": [
        "And here is the \"accuracy\" of this unsupervised classification:"
      ]
    },
    {
      "cell_type": "code",
      "metadata": {
        "id": "kYMf33Sk8Mr8"
      },
      "source": [
        "from sklearn.manifold import TSNE\n",
        "\n",
        "# Project the data: this step will take several seconds\n",
        "tsne = TSNE(n_components=2, init='random', random_state=0)\n",
        "digits_proj = tsne.fit_transform(digits.data)\n",
        "\n",
        "# Compute the clusters\n",
        "kmeans = KMeans(n_clusters=10, random_state=0)\n",
        "clusters = kmeans.fit_predict(digits_proj)\n",
        "\n",
        "# Permute the labels\n",
        "labels = np.zeros_like(clusters)\n",
        "for i in range(10):\n",
        "    mask = (clusters == i)\n",
        "    labels[mask] = mode(digits.target[mask])[0]\n",
        "\n",
        "# Compute the accuracy\n",
        "accuracy_score(digits.target, labels)"
      ],
      "execution_count": null,
      "outputs": []
    },
    {
      "cell_type": "code",
      "metadata": {
        "id": "3jvLqMU7F87z"
      },
      "source": [
        "plt.figure(figsize=(8,6))\n",
        "plt.scatter(x=digits_proj[:,0], y=digits_proj[:,1], c=labels, cmap='viridis', s=2);"
      ],
      "execution_count": null,
      "outputs": []
    },
    {
      "cell_type": "markdown",
      "metadata": {
        "id": "WkAO92b18Mr9"
      },
      "source": [
        "That's a pretty impressive classification accuracy *without using the labels*.\n",
        "This is the power of unsupervised learning when used carefully: it can extract information from the dataset that it might be difficult to do by hand or by eye."
      ]
    },
    {
      "cell_type": "markdown",
      "metadata": {
        "id": "fCGpJwqx8Mr9"
      },
      "source": [
        "### Example 2: *k*-means for color compression\n",
        "\n",
        "One interesting application of clustering is in color compression within images.\n",
        "For example, imagine you have an image with millions of colors.\n",
        "In most images, a large number of the colors will be unused, and many of the pixels in the image will have similar or even identical colors.\n",
        "\n",
        "For example, consider the image shown in the following figure, which is from the Scikit-Learn ``datasets`` module (for this to work, you'll have to have the ``pillow`` Python package installed)."
      ]
    },
    {
      "cell_type": "code",
      "metadata": {
        "id": "CBI0uUFC8Mr9"
      },
      "source": [
        "# Note: this requires the ``pillow`` package to be installed\n",
        "from sklearn.datasets import load_sample_image\n",
        "china = load_sample_image(\"china.jpg\")\n",
        "ax = plt.axes(xticks=[], yticks=[])\n",
        "ax.imshow(china);"
      ],
      "execution_count": null,
      "outputs": []
    },
    {
      "cell_type": "markdown",
      "metadata": {
        "id": "_WL5H0978Mr-"
      },
      "source": [
        "The image itself is stored in a three-dimensional array of size ``(height, width, RGB)``, containing red/blue/green contributions as integers from 0 to 255:"
      ]
    },
    {
      "cell_type": "code",
      "metadata": {
        "id": "9BGUeS198Mr-"
      },
      "source": [
        "china.shape"
      ],
      "execution_count": null,
      "outputs": []
    },
    {
      "cell_type": "markdown",
      "metadata": {
        "id": "aDbV_j5M8Mr-"
      },
      "source": [
        "One way we can view this set of pixels is as a cloud of points in a three-dimensional color space.\n",
        "We will reshape the data to ``[n_samples x n_features]``, and rescale the colors so that they lie between 0 and 1:"
      ]
    },
    {
      "cell_type": "code",
      "metadata": {
        "id": "dlFGoe2u8Mr-"
      },
      "source": [
        "data = china / 255.0 # use 0...1 scale\n",
        "data = data.reshape(427 * 640, 3)\n",
        "data.shape"
      ],
      "execution_count": null,
      "outputs": []
    },
    {
      "cell_type": "markdown",
      "metadata": {
        "id": "FBD-XGmX8Mr-"
      },
      "source": [
        "We can visualize these pixels in this color space, using a subset of 10,000 pixels for efficiency:"
      ]
    },
    {
      "cell_type": "code",
      "metadata": {
        "id": "haUhKpHg8Mr-"
      },
      "source": [
        "def plot_pixels(data, title, colors=None, N=10000):\n",
        "    if colors is None:\n",
        "        colors = data\n",
        "\n",
        "    # choose a random subset\n",
        "    rng = np.random.RandomState(0)\n",
        "    i = rng.permutation(data.shape[0])[:N]\n",
        "    colors = colors[i]\n",
        "    R, G, B = data[i].T\n",
        "\n",
        "    fig, ax = plt.subplots(1, 2, figsize=(16, 6))\n",
        "    ax[0].scatter(R, G, color=colors, marker='.')\n",
        "    ax[0].set(xlabel='Red', ylabel='Green', xlim=(0, 1), ylim=(0, 1))\n",
        "\n",
        "    ax[1].scatter(R, B, color=colors, marker='.')\n",
        "    ax[1].set(xlabel='Red', ylabel='Blue', xlim=(0, 1), ylim=(0, 1))\n",
        "\n",
        "    fig.suptitle(title, size=20);"
      ],
      "execution_count": null,
      "outputs": []
    },
    {
      "cell_type": "code",
      "metadata": {
        "id": "D1BV3xIS8Mr_"
      },
      "source": [
        "plot_pixels(data, title='Input color space: 16 million possible colors')"
      ],
      "execution_count": null,
      "outputs": []
    },
    {
      "cell_type": "markdown",
      "metadata": {
        "id": "iclFHTz08Mr_"
      },
      "source": [
        "Now let's reduce these 16 million colors to just 16 colors, using a *k*-means clustering across the pixel space.\n",
        "Because we are dealing with a very large dataset, we will use the mini batch *k*-means, which operates on subsets of the data to compute the result much more quickly than the standard *k*-means algorithm:"
      ]
    },
    {
      "cell_type": "code",
      "metadata": {
        "id": "3V6p6hCK8Mr_"
      },
      "source": [
        "import warnings; warnings.simplefilter('ignore')  # Fix NumPy issues.\n",
        "\n",
        "from sklearn.cluster import MiniBatchKMeans\n",
        "kmeans = MiniBatchKMeans(16)\n",
        "kmeans.fit(data)\n",
        "new_colors = kmeans.cluster_centers_[kmeans.predict(data)]\n",
        "\n",
        "plot_pixels(data, colors=new_colors,\n",
        "            title=\"Reduced color space: 16 colors\")"
      ],
      "execution_count": null,
      "outputs": []
    },
    {
      "cell_type": "markdown",
      "metadata": {
        "id": "kCx6Gt1f8Mr_"
      },
      "source": [
        "The result is a re-coloring of the original pixels, where each pixel is assigned the color of its closest cluster center.\n",
        "Plotting these new colors in the image space rather than the pixel space shows us the effect of this:"
      ]
    },
    {
      "cell_type": "code",
      "metadata": {
        "id": "vxz4S_1F8Mr_"
      },
      "source": [
        "china_recolored = new_colors.reshape(china.shape)\n",
        "\n",
        "fig, ax = plt.subplots(1, 2, figsize=(16, 6),\n",
        "                       subplot_kw=dict(xticks=[], yticks=[]))\n",
        "fig.subplots_adjust(wspace=0.05)\n",
        "ax[0].imshow(china)\n",
        "ax[0].set_title('Original Image', size=16)\n",
        "ax[1].imshow(china_recolored)\n",
        "ax[1].set_title('16-color Image', size=16);"
      ],
      "execution_count": null,
      "outputs": []
    },
    {
      "cell_type": "markdown",
      "metadata": {
        "id": "xGKBtlb48MsA"
      },
      "source": [
        "Some detail is certainly lost in the rightmost panel, but the overall image is still easily recognizable.\n",
        "This image on the right achieves a compression factor of around 1 million!\n",
        "While this is an interesting application of *k*-means, there are certainly better way to compress information in images.\n",
        "But the example shows the power of thinking outside of the box with unsupervised methods like *k*-means."
      ]
    }
  ]
}